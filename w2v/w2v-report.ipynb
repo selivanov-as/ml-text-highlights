{
 "cells": [
  {
   "cell_type": "code",
   "execution_count": 1,
   "metadata": {},
   "outputs": [],
   "source": [
    "import os\n",
    "import sys\n",
    "import codecs\n",
    "\n",
    "from gensim.models import Word2Vec\n",
    "from gensim.models.word2vec import LineSentence\n",
    "from gensim.corpora import WikiCorpus\n",
    "from tqdm import tqdm"
   ]
  },
  {
   "cell_type": "code",
   "execution_count": 2,
   "metadata": {},
   "outputs": [
    {
     "name": "stderr",
     "output_type": "stream",
     "text": [
      "0it [00:00, ?it/s]"
     ]
    },
    {
     "name": "stdout",
     "output_type": "stream",
     "text": [
      "starting...\n"
     ]
    },
    {
     "name": "stderr",
     "output_type": "stream",
     "text": [
      "1300455it [2:36:01, 138.91it/s]"
     ]
    },
    {
     "name": "stdout",
     "output_type": "stream",
     "text": [
      "CPU times: user 1h 32min 17s, sys: 9min 30s, total: 1h 41min 47s\n",
      "Wall time: 5h 11min 43s\n"
     ]
    },
    {
     "name": "stderr",
     "output_type": "stream",
     "text": [
      "\n"
     ]
    }
   ],
   "source": [
    "%%time\n",
    "\n",
    "f = 'ruwiki-latest-pages-articles.xml.bz2'\n",
    "# with codecs.open('wiki.ru__preview.text', 'w',\n",
    "with codecs.open('wiki.ru.text', 'w',\n",
    "                 'utf-8', errors='ignore') as fout:\n",
    "    wiki = WikiCorpus(f, lemmatize=False,\n",
    "                      dictionary={}, processes=2\n",
    "    print('starting...')\n",
    "    for i, text in tqdm(enumerate(wiki.get_texts())):\n",
    "        line = ' '.join(text) + '\\n'\n",
    "        fout.write(line)"
   ]
  },
  {
   "cell_type": "code",
   "execution_count": 3,
   "metadata": {},
   "outputs": [
    {
     "name": "stderr",
     "output_type": "stream",
     "text": [
      "50000it [1:04:16, 20.54it/s]"
     ]
    },
    {
     "name": "stdout",
     "output_type": "stream",
     "text": [
      "CPU times: user 1h 13s, sys: 29.2 s, total: 1h 43s\n",
      "Wall time: 1h 4min 16s\n"
     ]
    },
    {
     "name": "stderr",
     "output_type": "stream",
     "text": [
      "\n"
     ]
    }
   ],
   "source": [
    "%%time\n",
    "import pymorphy2\n",
    "\n",
    "morph = pymorphy2.MorphAnalyzer()\n",
    "with codecs.open('wiki.ru.text', 'r', 'utf-8') as fin:\n",
    "    with codecs.open('wiki_data.txt',\n",
    "                     'w', 'utf-8') as fout:\n",
    "        for i, line in tqdm(enumerate(fin)):  # zip(range(100), fin):\n",
    "            for w in line.strip().split(' '):\n",
    "                fout.write(u'{} '.format(\n",
    "                    morph.parse(w)[0].normal_form))\n",
    "            fout.write('\\n')"
   ]
  },
  {
   "cell_type": "code",
   "execution_count": 4,
   "metadata": {},
   "outputs": [
    {
     "name": "stdout",
     "output_type": "stream",
     "text": [
      "CPU times: user 1h 5min 28s, sys: 25.1 s, total: 1h 5min 53s\n",
      "Wall time: 40min 43s\n"
     ]
    }
   ],
   "source": [
    "%%time\n",
    "model_cbow_base = Word2Vec(LineSentence('wiki_data.txt'),\n",
    "                           size=400,\n",
    "                           window=5,\n",
    "                           min_count=5,\n",
    "                           workers=2)"
   ]
  },
  {
   "cell_type": "code",
   "execution_count": 5,
   "metadata": {},
   "outputs": [
    {
     "name": "stdout",
     "output_type": "stream",
     "text": [
      "CPU times: user 2.25 s, sys: 1.89 s, total: 4.14 s\n",
      "Wall time: 16.6 s\n"
     ]
    }
   ],
   "source": [
    "%%time\n",
    "model_cbow_base.save('wiki_w2v.model')"
   ]
  },
  {
   "cell_type": "code",
   "execution_count": 28,
   "metadata": {},
   "outputs": [
    {
     "name": "stdout",
     "output_type": "stream",
     "text": [
      "CPU times: user 4h 24min 21s, sys: 1min 1s, total: 4h 25min 22s\n",
      "Wall time: 2h 52min 34s\n"
     ]
    }
   ],
   "source": [
    "%%time\n",
    "model_sg_base = Word2Vec(LineSentence('wiki_data.txt'),\n",
    "                         sg=1,\n",
    "                         size=400,\n",
    "                         window=5,\n",
    "                         min_count=5,\n",
    "                         workers=2)"
   ]
  },
  {
   "cell_type": "code",
   "execution_count": 29,
   "metadata": {},
   "outputs": [
    {
     "name": "stdout",
     "output_type": "stream",
     "text": [
      "CPU times: user 2.26 s, sys: 1.72 s, total: 3.98 s\n",
      "Wall time: 14.7 s\n"
     ]
    }
   ],
   "source": [
    "%%time\n",
    "model_sg_base.save('wiki_w2v_sg.model')"
   ]
  },
  {
   "cell_type": "code",
   "execution_count": null,
   "metadata": {},
   "outputs": [],
   "source": []
  },
  {
   "cell_type": "code",
   "execution_count": null,
   "metadata": {},
   "outputs": [],
   "source": []
  },
  {
   "cell_type": "code",
   "execution_count": 37,
   "metadata": {},
   "outputs": [],
   "source": [
    "model_cbow_base= Word2Vec.load('wiki_w2v.model')\n",
    "model_sg_base = Word2Vec.load('wiki_w2v_sg.model')"
   ]
  },
  {
   "cell_type": "code",
   "execution_count": 39,
   "metadata": {},
   "outputs": [
    {
     "name": "stderr",
     "output_type": "stream",
     "text": [
      "/home/max/anaconda3/envs/jupkrn/lib/python3.6/site-packages/ipykernel_launcher.py:2: DeprecationWarning: Call to deprecated `most_similar` (Method will be removed in 4.0.0, use self.wv.most_similar() instead).\n",
      "  \n"
     ]
    },
    {
     "data": {
      "text/plain": [
       "([('пополудни', 0.6086992025375366),\n",
       "  ('гкал', 0.5136786699295044),\n",
       "  ('микрорентген', 0.49235546588897705),\n",
       "  ('урочный', 0.4689948260784149),\n",
       "  ('киловатт', 0.46074092388153076),\n",
       "  ('круглосуточный', 0.4566711187362671),\n",
       "  ('буйнакск', 0.45602744817733765),\n",
       "  ('час', 0.44416868686676025),\n",
       "  ('дудаевский', 0.4425424039363861),\n",
       "  ('полночный', 0.44177040457725525)],\n",
       " [('мпво', 0.5969606041908264),\n",
       "  ('постовой', 0.5895310640335083),\n",
       "  ('дудаевский', 0.5749117732048035),\n",
       "  ('омсдон', 0.5741949677467346),\n",
       "  ('комиссариатский', 0.5680011510848999),\n",
       "  ('ковтюха', 0.566831111907959),\n",
       "  ('патрулироваться', 0.5637158155441284),\n",
       "  ('погранотряд', 0.5627739429473877),\n",
       "  ('южурво', 0.5623371005058289),\n",
       "  ('баррикадный', 0.5620620250701904)])"
      ]
     },
     "execution_count": 39,
     "metadata": {},
     "output_type": "execute_result"
    }
   ],
   "source": [
    "word = 'комендантский'\n",
    "model_cbow_base.most_similar(word), model_sg_base.most_similar(word)"
   ]
  },
  {
   "cell_type": "code",
   "execution_count": null,
   "metadata": {},
   "outputs": [],
   "source": []
  },
  {
   "cell_type": "code",
   "execution_count": 41,
   "metadata": {},
   "outputs": [],
   "source": [
    "vecs_cbow = {k: model_cbow_base.wv.word_vec(k, use_norm=False) for k in model_cbow_base.wv.vocab}\n",
    "vecs_sg = {k: model_sg_base.wv.word_vec(k, use_norm=False) for k in model_sg_base.wv.vocab}"
   ]
  },
  {
   "cell_type": "code",
   "execution_count": 42,
   "metadata": {},
   "outputs": [],
   "source": [
    "import numpy as np\n",
    "\n",
    "norms_cbow = {k: float(np.linalg.norm(v)) for k, v in vecs_cbow.items()}\n",
    "norms_sg = {k: float(np.linalg.norm(v)) for k, v in vecs_sg.items()}"
   ]
  },
  {
   "cell_type": "code",
   "execution_count": 24,
   "metadata": {},
   "outputs": [],
   "source": [
    "import json\n",
    "\n",
    "with open('norms_cbow_base.json', 'w') as f:\n",
    "    json.dump(norms_cbow, f)"
   ]
  },
  {
   "cell_type": "code",
   "execution_count": 43,
   "metadata": {},
   "outputs": [],
   "source": [
    "import json\n",
    "\n",
    "with open('norms_sg_base.json', 'w') as f:\n",
    "    json.dump(norms_sg, f)"
   ]
  },
  {
   "cell_type": "code",
   "execution_count": 44,
   "metadata": {},
   "outputs": [],
   "source": [
    "norms_cbow_sorted = sorted(norms_cbow.items(), key=lambda x: x[1], reverse=True)\n",
    "norms_sg_sorted = sorted(norms_sg.items(), key=lambda x: x[1], reverse=True)"
   ]
  },
  {
   "cell_type": "code",
   "execution_count": 45,
   "metadata": {},
   "outputs": [
    {
     "data": {
      "text/plain": [
       "([('jpg', 30.95418357849121),\n",
       "  ('ред', 29.2774658203125),\n",
       "  ('деятель', 28.778352737426758),\n",
       "  ('ул', 28.526844024658203),\n",
       "  ('битва', 28.202451705932617),\n",
       "  ('война', 28.119966506958008),\n",
       "  ('династия', 28.02814483642578),\n",
       "  ('престол', 27.755056381225586),\n",
       "  ('училище', 27.752113342285156),\n",
       "  ('зависеть', 27.596450805664062)],\n",
       " [('siebenberg', 0.2713257372379303),\n",
       "  ('siebenbergjr', 0.2475903034210205),\n",
       "  ('gsamoylov', 0.23046043515205383),\n",
       "  ('leontiev', 0.2270047813653946),\n",
       "  ('lguitar', 0.22493717074394226),\n",
       "  ('hardred', 0.2056535929441452),\n",
       "  ('я_атака', 0.1741270273923874),\n",
       "  ('shumov', 0.1715807318687439),\n",
       "  ('shurov', 0.16904737055301666),\n",
       "  ('vsamoylov', 0.15682563185691833)])"
      ]
     },
     "execution_count": 45,
     "metadata": {},
     "output_type": "execute_result"
    }
   ],
   "source": [
    "norms_cbow_sorted[:10], norms_cbow_sorted[-10:]"
   ]
  },
  {
   "cell_type": "code",
   "execution_count": 46,
   "metadata": {},
   "outputs": [
    {
     "data": {
      "text/plain": [
       "([('bar', 9.805545806884766),\n",
       "  ('till', 9.550966262817383),\n",
       "  ('text', 9.081475257873535),\n",
       "  ('align', 9.057826042175293),\n",
       "  ('color', 8.8042573928833),\n",
       "  ('fontsize', 8.701995849609375),\n",
       "  ('width', 8.572052955627441),\n",
       "  ('center', 8.357748985290527),\n",
       "  ('bgcolor', 8.21220588684082),\n",
       "  ('colspan', 8.180337905883789)],\n",
       " [('арио', 1.2444965839385986),\n",
       "  ('кадавр', 1.234136939048767),\n",
       "  ('аксио', 1.2317339181900024),\n",
       "  ('наполео', 1.2276191711425781),\n",
       "  ('артакс', 1.2191438674926758),\n",
       "  ('пья', 1.1911792755126953),\n",
       "  ('евкли', 1.1821703910827637),\n",
       "  ('жанда', 1.1652240753173828),\n",
       "  ('отч', 1.1402981281280518),\n",
       "  ('нахо', 1.1079518795013428)])"
      ]
     },
     "execution_count": 46,
     "metadata": {},
     "output_type": "execute_result"
    }
   ],
   "source": [
    "norms_sg_sorted[:10], norms_sg_sorted[-10:]"
   ]
  },
  {
   "cell_type": "markdown",
   "metadata": {},
   "source": [
    "/\\\n",
    "\n",
    "судя по всему, какие-то тэги пробрались в корпус."
   ]
  },
  {
   "cell_type": "code",
   "execution_count": null,
   "metadata": {},
   "outputs": [],
   "source": []
  }
 ],
 "metadata": {
  "kernelspec": {
   "display_name": "Python 3",
   "language": "python",
   "name": "python3"
  },
  "language_info": {
   "codemirror_mode": {
    "name": "ipython",
    "version": 3
   },
   "file_extension": ".py",
   "mimetype": "text/x-python",
   "name": "python",
   "nbconvert_exporter": "python",
   "pygments_lexer": "ipython3",
   "version": "3.6.8"
  }
 },
 "nbformat": 4,
 "nbformat_minor": 2
}
