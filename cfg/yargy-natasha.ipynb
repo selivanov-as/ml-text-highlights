{
 "cells": [
  {
   "cell_type": "code",
   "execution_count": 131,
   "metadata": {},
   "outputs": [],
   "source": [
    "from glob import iglob as list_paths\n",
    "\n",
    "\n",
    "def load_text(path):\n",
    "    with open(path, encoding='utf-8') as file:\n",
    "        return file.read()\n",
    "\n",
    "\n",
    "texts = [\n",
    "    load_text(_)\n",
    "    for _ in list_paths('3_fav_ex/*.txt')\n",
    "]"
   ]
  },
  {
   "cell_type": "code",
   "execution_count": 132,
   "metadata": {},
   "outputs": [],
   "source": [
    "from natasha import (\n",
    "    NamesExtractor,\n",
    "    SimpleNamesExtractor,\n",
    "    PersonExtractor,\n",
    "\n",
    "    LocationExtractor,\n",
    "    AddressExtractor,\n",
    "\n",
    "    OrganisationExtractor,\n",
    "\n",
    "    DatesExtractor,\n",
    "\n",
    "    MoneyExtractor,\n",
    "    MoneyRateExtractor,\n",
    "    MoneyRangeExtractor,\n",
    ")\n",
    "\n",
    "from natasha.markup import (\n",
    "    show_markup_notebook as show_markup,\n",
    "    format_json\n",
    ")"
   ]
  },
  {
   "cell_type": "code",
   "execution_count": 133,
   "metadata": {},
   "outputs": [],
   "source": [
    "from yargy.token import Span\n",
    "\n",
    "def unite_spans(spans):\n",
    "    if not spans:\n",
    "        return spans\n",
    "    spans = sorted(spans, key=lambda x: (x.start, x.stop))\n",
    "    new_spans = []\n",
    "    beg, end = spans[0].start, spans[0].stop\n",
    "#     prev = spans[0]\n",
    "    for span in spans[1:]:\n",
    "        if span.start < end < span.stop:\n",
    "            end = span.stop\n",
    "        elif span.stop <= end:\n",
    "            continue\n",
    "        else:\n",
    "            new_spans.append(Span(beg, end))\n",
    "            beg, end = span.start, span.stop\n",
    "    new_spans.append(Span(beg, end))\n",
    "    return new_spans"
   ]
  },
  {
   "cell_type": "code",
   "execution_count": 134,
   "metadata": {},
   "outputs": [
    {
     "data": {
      "text/html": [
       "<style>\n",
       "\n",
       ".markup {\n",
       "    white-space: pre-wrap;\n",
       "}\n",
       "\n",
       ".markup > mark {\n",
       "    padding: 0.15em;\n",
       "    border-radius: 0.25em;\n",
       "    border: 1px solid #fdf07c;\n",
       "    background: #ffffc2;\n",
       "}\n",
       "    </style><div class=\"markup tex2jax_ignore\">Уважаемый Максим Сергеевич Рассказов!\n",
       "\n",
       "Приглашаем Вас посмотреть в кругу друзей и знакомых новый, научно-популярный фильм под названием «Изобретение штанов!».\n",
       "Изобретение штанов?\n",
       "\n",
       "Мы совсем не задумываемся о том, что мы надеваем каждый день: и стар, и млад, и мужчины, и женщины носят – штаны. Но кто изобрел их? Когда и почему? Международная команда попыталась ответить на эти вопросы. В создании этого фильма приняли участие и археологи, и дизайнеры, и ученые. На примере анимации просто объясняются сложные научные процессы, например, методы определения возраста шерсти или реконструкции окружения давно забытых времен. Специально написанная музыка сопровождает исследователей на протяжении всего фильма.\n",
       "Кто додумывается до такого!?\n",
       "\n",
       "Эта впечатляющая кинолента будет показана в рамках 50-летнего юбилея сотрудничества Freie Universität Berlin и СПбГУ. Сначала приветственные слова, презентация брошюры 50 Years of Cooperation …\n",
       "Я – про фильм!\n",
       "\n",
       "Содержание фильма – результат германо-китайско-российского исследования, проведенного под руководством ученых из Freie Universität Berlin, а реализация – работа студентов-кинематографов.\n",
       "Когда?\n",
       "\n",
       "Понедельник, 19-го <mark>ноября 2018</mark>, сбор гостей в 18:30 ч. в Лендоке по адресу <mark>наб. Крюкова канала, д. 12</mark>, Санкт-Петербург.\n",
       "Сколько стоит?\n",
       "\n",
       "Просмотр фильма бесплатный.\n",
       "Что надо сделать?\n",
       "\n",
       "Требуется лишь регистрация по ссылке https://goo.gl/forms/XIn08PEiPR3hPb7C3\n",
       "\n",
       "Дополнительная информация: https://www.fu-berlin.de/ru/sites/moscow/50-years-spsu/\n",
       "\n",
       "\n",
       "С уважением,\n",
       "\n",
       " \n",
       "Тобиас Стюдеманн</div>"
      ],
      "text/plain": [
       "<IPython.core.display.HTML object>"
      ]
     },
     "metadata": {},
     "output_type": "display_data"
    },
    {
     "name": "stdout",
     "output_type": "stream",
     "text": [
      "\n",
      "\n",
      "\n",
      "\n"
     ]
    },
    {
     "data": {
      "text/html": [
       "<style>\n",
       "\n",
       ".markup {\n",
       "    white-space: pre-wrap;\n",
       "}\n",
       "\n",
       ".markup > mark {\n",
       "    padding: 0.15em;\n",
       "    border-radius: 0.25em;\n",
       "    border: 1px solid #fdf07c;\n",
       "    background: #ffffc2;\n",
       "}\n",
       "    </style><div class=\"markup tex2jax_ignore\">Добрый день,\n",
       "\n",
       "Ссылка на GooglDrive, куда будут выкладываться материалы по курсу \"Базы данных\" -  https://goo.gl/CZBPgV (регистр букв важен).\n",
       "В папке HomeTasks домашние задания.\n",
       "\n",
       "С уважением, <mark>Алексей</mark>\n",
       "\n",
       "-- \n",
       "Вы получили это сообщение, поскольку подписаны на группу \"АнализВШЭ2017\".\n",
       "Чтобы отменить подписку на эту группу и больше не получать от нее сообщения, отправьте письмо на электронный адрес mbd171+unsubscribe@googlegroups.com.\n",
       "Чтобы отправлять сообщения в эту группу, отправьте письмо на электронный адрес mbd171@googlegroups.com.\n",
       "Чтобы посмотреть обсуждение на веб-странице, перейдите по ссылке https://groups.google.com/d/msgid/mbd171/CADjhq0B6XajZceQob-phCue8qPw0e%2B2K6YFr4uoOGx%2Bkzx8t0w%40mail.gmail.com.\n",
       "Чтобы настроить другие параметры, перейдите по ссылке https://groups.google.com/d/optout.\n",
       "</div>"
      ],
      "text/plain": [
       "<IPython.core.display.HTML object>"
      ]
     },
     "metadata": {},
     "output_type": "display_data"
    },
    {
     "name": "stdout",
     "output_type": "stream",
     "text": [
      "\n",
      "\n",
      "\n",
      "\n"
     ]
    },
    {
     "data": {
      "text/html": [
       "<style>\n",
       "\n",
       ".markup {\n",
       "    white-space: pre-wrap;\n",
       "}\n",
       "\n",
       ".markup > mark {\n",
       "    padding: 0.15em;\n",
       "    border-radius: 0.25em;\n",
       "    border: 1px solid #fdf07c;\n",
       "    background: #ffffc2;\n",
       "}\n",
       "    </style><div class=\"markup tex2jax_ignore\">Уважаемые студенты!\n",
       "\n",
       "До <mark>1 декабря</mark> вам необходимо заполнить заявление (бланк в приложенном файле) на утверждение темы вашей выпускной квалификационной работы (ВКР) и:\n",
       "\n",
       "- в электронном виде выслать в ответном письме\n",
       "\n",
       "- в бумажном варианте со всеми необходимыми подписями принести  мне в каб. 331.\n",
       "\n",
       "Если у кого-то возникнут трудности с печатью заявления, подходите в учебный офис, я вам распечатаю.\n",
       "\n",
       "Подробнее о государственной итоговой аттестации можно почитать на странице вашей образовательной программы по ссылке: https://spb.hse.ru/ma/analysis/gia\n",
       "\n",
       "\n",
       "С уважением,\n",
       "\n",
       "<mark>Колобова Ольга Николаевна</mark>\n",
       "\n",
       "начальник ОСУП в магистратуре\n",
       "\n",
       "по направлению «Прикладная математика и информатика»\n",
       "\n",
       "факультета Санкт-Петербургская школа\n",
       "\n",
       "физико-математических и компьютерных наук\n",
       "\n",
       "тел. (812) 644-59-11  доб. 61597, каб. 331\n",
       "\n",
       "okolobova@hse.ru</div>"
      ],
      "text/plain": [
       "<IPython.core.display.HTML object>"
      ]
     },
     "metadata": {},
     "output_type": "display_data"
    },
    {
     "name": "stdout",
     "output_type": "stream",
     "text": [
      "\n",
      "\n",
      "\n",
      "\n"
     ]
    },
    {
     "data": {
      "text/html": [
       "<style>\n",
       "\n",
       ".markup {\n",
       "    white-space: pre-wrap;\n",
       "}\n",
       "\n",
       ".markup > mark {\n",
       "    padding: 0.15em;\n",
       "    border-radius: 0.25em;\n",
       "    border: 1px solid #fdf07c;\n",
       "    background: #ffffc2;\n",
       "}\n",
       "    </style><div class=\"markup tex2jax_ignore\">Всем привет!\n",
       "\n",
       "Ребята, важная новость. К сожалению, в течение недели в Таймс будет недоступно студенческое кафе. Завтра утром в студенческой комнате (№203) появятся микроволновка и кулер с горячей/холодной водой, так что перекусить можно будет прямо там.   \n",
       "\n",
       "Извините за временные неудобства. \n",
       "\n",
       "<mark>Катя Артамонова</mark> \n",
       "CS центр\n",
       "\n",
       "-- \n",
       "Вы получили это сообщение, поскольку подписаны на группу \"Computer Science Center 2017\".\n",
       "Чтобы отменить подписку на эту группу и больше не получать от нее сообщения, отправьте письмо на электронный адрес compscicenter2017+unsubscribe@googlegroups.com.\n",
       "Чтобы посмотреть обсуждение на веб-странице, перейдите по ссылке https://groups.google.com/d/msgid/compscicenter2017/c586d269-5f68-4b4f-b058-a398a45855b6%40Spark.\n",
       "Чтобы настроить другие параметры, перейдите по ссылке https://groups.google.com/d/optout.\n",
       "</div>"
      ],
      "text/plain": [
       "<IPython.core.display.HTML object>"
      ]
     },
     "metadata": {},
     "output_type": "display_data"
    },
    {
     "name": "stdout",
     "output_type": "stream",
     "text": [
      "\n",
      "\n",
      "\n",
      "\n"
     ]
    },
    {
     "data": {
      "text/html": [
       "<style>\n",
       "\n",
       ".markup {\n",
       "    white-space: pre-wrap;\n",
       "}\n",
       "\n",
       ".markup > mark {\n",
       "    padding: 0.15em;\n",
       "    border-radius: 0.25em;\n",
       "    border: 1px solid #fdf07c;\n",
       "    background: #ffffc2;\n",
       "}\n",
       "    </style><div class=\"markup tex2jax_ignore\">Нападающий сборной Египта и «Ливерпуля» <mark>Мохаммед Салах</mark> в твиттере извинился перед своей поклонницей, которая пришла на стадион с баннером: «Салах, пожалуйста, забей гол. Мне надо домой делать домашнее задание». В матче со сборной Туниса Салах отличился только на 90-й минуте; благодаря его голу Египет выиграл со счетом 3:2.\n",
       "\n",
       "«Я старался, чтобы ты ушла домой пораньше, и мне жаль, что я продержал тебя на стадионе до последней минуты. Надеюсь, учитель поймет ситуацию», — написал Салах.\n",
       "</div>"
      ],
      "text/plain": [
       "<IPython.core.display.HTML object>"
      ]
     },
     "metadata": {},
     "output_type": "display_data"
    },
    {
     "name": "stdout",
     "output_type": "stream",
     "text": [
      "\n",
      "\n",
      "\n",
      "\n"
     ]
    },
    {
     "data": {
      "text/html": [
       "<style>\n",
       "\n",
       ".markup {\n",
       "    white-space: pre-wrap;\n",
       "}\n",
       "\n",
       ".markup > mark {\n",
       "    padding: 0.15em;\n",
       "    border-radius: 0.25em;\n",
       "    border: 1px solid #fdf07c;\n",
       "    background: #ffffc2;\n",
       "}\n",
       "    </style><div class=\"markup tex2jax_ignore\">Очковые пингвины размножаются в колониях. Чтобы заставить их основать новую колонию в заповеднике Стони-Пойнт (ЮАР), ученые подсовывают привезенным туда пингвинам бетонные копии в разных намекающих позах. Живые пингвины должны подумать, что на острове уже есть другие особи, и задуматься о продолжении рода. Но этот пингвин всем своим поведением говорит, что он никому ничего не должен.\n",
       "\n",
       "</div>"
      ],
      "text/plain": [
       "<IPython.core.display.HTML object>"
      ]
     },
     "metadata": {},
     "output_type": "display_data"
    },
    {
     "name": "stdout",
     "output_type": "stream",
     "text": [
      "\n",
      "\n",
      "\n",
      "\n"
     ]
    },
    {
     "data": {
      "text/html": [
       "<style>\n",
       "\n",
       ".markup {\n",
       "    white-space: pre-wrap;\n",
       "}\n",
       "\n",
       ".markup > mark {\n",
       "    padding: 0.15em;\n",
       "    border-radius: 0.25em;\n",
       "    border: 1px solid #fdf07c;\n",
       "    background: #ffffc2;\n",
       "}\n",
       "    </style><div class=\"markup tex2jax_ignore\">Международный фестиваль о науке и технологиях Политех360 в восьмой раз пройдет в Москве с <mark>22 ноября</mark> по <mark>2 декабря</mark>.\n",
       "В этом году основная кинопрограмма фестиваля собрала самые громкие документальные фильмы сезона на тему “Технооптимизм / Технопессимизм”.\n",
       "В ней есть роботы-убийцы и филиппинские модераторы, которые стали полицейскими виртуального мира. В ней есть члены клуба плоской Земли и пилоты самолета на солнечных батареях. В ней есть компания, которая опередила будущее, и компания, которая застряла в прошлом. А еще в ней есть человеческие истории: будущее определяют отвага и сомнения, подвиги и трагедии людей, а не футурологические прогнозы.\n",
       "Сокураторы кинопрограммы и программы дискуссий — наши давние партнеры Beat Film Festival .\n",
       "Купить билеты на первые шесть фильмов и узнать детали можно на нашем сайте – http://360.polytech.one\n",
       "Генеральный партнер фестиваля — российская компания ТМХ , один из крупнейших в мире производителей техники для рельсового транспорта.\n",
       "</div>"
      ],
      "text/plain": [
       "<IPython.core.display.HTML object>"
      ]
     },
     "metadata": {},
     "output_type": "display_data"
    },
    {
     "name": "stdout",
     "output_type": "stream",
     "text": [
      "\n",
      "\n",
      "\n",
      "\n"
     ]
    }
   ],
   "source": [
    "def find_entities(text):\n",
    "    all_spans = []\n",
    "    for extr_cls in (\n",
    "        NamesExtractor,\n",
    "#         SimpleNamesExtractor,\n",
    "#         PersonExtractor,\n",
    "#         LocationExtractor,\n",
    "        AddressExtractor,\n",
    "#         OrganisationExtractor,\n",
    "        DatesExtractor,\n",
    "#         MoneyExtractor,\n",
    "#         MoneyRateExtractor,\n",
    "#         MoneyRangeExtractor,\n",
    "    ):\n",
    "        extractor = extr_cls()\n",
    "        matches = extractor(text)\n",
    "        spans = [_.span for _ in matches]\n",
    "        all_spans.extend(spans)\n",
    "    return unite_spans(all_spans)\n",
    "\n",
    "\n",
    "for text in texts:\n",
    "    all_spans = find_entities(text)\n",
    "    show_markup(text, all_spans)\n",
    "    print('\\n\\n\\n')"
   ]
  },
  {
   "cell_type": "code",
   "execution_count": 135,
   "metadata": {},
   "outputs": [
    {
     "data": {
      "text/html": [
       "<style>\n",
       "\n",
       ".markup {\n",
       "    white-space: pre-wrap;\n",
       "}\n",
       "\n",
       ".markup > mark {\n",
       "    padding: 0.15em;\n",
       "    border-radius: 0.25em;\n",
       "    border: 1px solid #fdf07c;\n",
       "    background: #ffffc2;\n",
       "}\n",
       "    </style><div class=\"markup tex2jax_ignore\">Уважаемый Максим Сергеевич Рассказов!\n",
       "\n",
       "Приглашаем Вас посмотреть в кругу друзей и знакомых новый, научно-популярный фильм под названием «Изобретение штанов!».\n",
       "Изобретение штанов?\n",
       "\n",
       "Мы совсем не задумываемся о том, что мы надеваем каждый день: и стар, и млад, и мужчины, и женщины носят – штаны. Но кто изобрел их? Когда и почему? Международная команда попыталась ответить на эти вопросы. В создании этого фильма приняли участие и археологи, и дизайнеры, и ученые. На примере анимации просто объясняются сложные научные процессы, например, методы определения возраста шерсти или реконструкции окружения давно забытых времен. Специально написанная музыка сопровождает исследователей на протяжении всего фильма.\n",
       "Кто додумывается до такого!?\n",
       "\n",
       "Эта впечатляющая кинолента будет показана в рамках 50-летнего юбилея сотрудничества Freie Universität Berlin и СПбГУ. Сначала приветственные слова, презентация брошюры 50 Years of Cooperation …\n",
       "Я – про фильм!\n",
       "\n",
       "Содержание фильма – результат германо-китайско-российского исследования, проведенного под руководством ученых из Freie Universität Berlin, а реализация – работа студентов-кинематографов.\n",
       "Когда?\n",
       "\n",
       "Понедельник, 19-го <mark>ноября 2018</mark>, сбор гостей в 18:30 ч. в Лендоке по адресу <mark>наб. Крюкова канала, д. 12</mark>, Санкт-Петербург.\n",
       "Сколько стоит?\n",
       "\n",
       "Просмотр фильма бесплатный.\n",
       "Что надо сделать?\n",
       "\n",
       "Требуется лишь регистрация по ссылке https://goo.gl/forms/XIn08PEiPR3hPb7C3\n",
       "\n",
       "Дополнительная информация: https://www.fu-berlin.de/ru/sites/moscow/50-years-spsu/\n",
       "\n",
       "\n",
       "С уважением,\n",
       "\n",
       " \n",
       "Тобиас Стюдеманн</div>"
      ],
      "text/plain": [
       "<IPython.core.display.HTML object>"
      ]
     },
     "metadata": {},
     "output_type": "display_data"
    },
    {
     "name": "stdout",
     "output_type": "stream",
     "text": [
      "\n",
      "\n",
      "\n",
      "\n"
     ]
    },
    {
     "data": {
      "text/html": [
       "<style>\n",
       "\n",
       ".markup {\n",
       "    white-space: pre-wrap;\n",
       "}\n",
       "\n",
       ".markup > mark {\n",
       "    padding: 0.15em;\n",
       "    border-radius: 0.25em;\n",
       "    border: 1px solid #fdf07c;\n",
       "    background: #ffffc2;\n",
       "}\n",
       "    </style><div class=\"markup tex2jax_ignore\">Добрый день,\n",
       "\n",
       "Ссылка на GooglDrive, куда будут выкладываться материалы по курсу \"Базы данных\" -  https://goo.gl/CZBPgV (регистр букв важен).\n",
       "В папке HomeTasks домашние задания.\n",
       "\n",
       "С уважением, <mark>Алексей</mark>\n",
       "\n",
       "-- \n",
       "Вы получили это сообщение, поскольку подписаны на группу \"АнализВШЭ2017\".\n",
       "Чтобы отменить подписку на эту группу и больше не получать от нее сообщения, отправьте письмо на электронный адрес mbd171+unsubscribe@googlegroups.com.\n",
       "Чтобы отправлять сообщения в эту группу, отправьте письмо на электронный адрес mbd171@googlegroups.com.\n",
       "Чтобы посмотреть обсуждение на веб-странице, перейдите по ссылке https://groups.google.com/d/msgid/mbd171/CADjhq0B6XajZceQob-phCue8qPw0e%2B2K6YFr4uoOGx%2Bkzx8t0w%40mail.gmail.com.\n",
       "Чтобы настроить другие параметры, перейдите по ссылке https://groups.google.com/d/optout.\n",
       "</div>"
      ],
      "text/plain": [
       "<IPython.core.display.HTML object>"
      ]
     },
     "metadata": {},
     "output_type": "display_data"
    },
    {
     "name": "stdout",
     "output_type": "stream",
     "text": [
      "\n",
      "\n",
      "\n",
      "\n"
     ]
    },
    {
     "data": {
      "text/html": [
       "<style>\n",
       "\n",
       ".markup {\n",
       "    white-space: pre-wrap;\n",
       "}\n",
       "\n",
       ".markup > mark {\n",
       "    padding: 0.15em;\n",
       "    border-radius: 0.25em;\n",
       "    border: 1px solid #fdf07c;\n",
       "    background: #ffffc2;\n",
       "}\n",
       "    </style><div class=\"markup tex2jax_ignore\">Уважаемые студенты!\n",
       "\n",
       "До <mark>1 декабря</mark> вам необходимо заполнить заявление (бланк в приложенном файле) на утверждение темы вашей выпускной квалификационной работы (ВКР) и:\n",
       "\n",
       "- в электронном виде выслать в ответном письме\n",
       "\n",
       "- в бумажном варианте со всеми необходимыми подписями принести  мне в каб. 331.\n",
       "\n",
       "Если у кого-то возникнут трудности с печатью заявления, подходите в учебный офис, я вам распечатаю.\n",
       "\n",
       "Подробнее о государственной итоговой аттестации можно почитать на странице вашей образовательной программы по ссылке: https://spb.hse.ru/ma/analysis/gia\n",
       "\n",
       "\n",
       "С уважением,\n",
       "\n",
       "<mark>Колобова Ольга Николаевна</mark>\n",
       "\n",
       "начальник ОСУП в магистратуре\n",
       "\n",
       "по направлению «Прикладная математика и информатика»\n",
       "\n",
       "факультета Санкт-Петербургская школа\n",
       "\n",
       "физико-математических и компьютерных наук\n",
       "\n",
       "тел. (812) 644-59-11  доб. 61597, каб. 331\n",
       "\n",
       "okolobova@hse.ru</div>"
      ],
      "text/plain": [
       "<IPython.core.display.HTML object>"
      ]
     },
     "metadata": {},
     "output_type": "display_data"
    },
    {
     "name": "stdout",
     "output_type": "stream",
     "text": [
      "\n",
      "\n",
      "\n",
      "\n"
     ]
    },
    {
     "data": {
      "text/html": [
       "<style>\n",
       "\n",
       ".markup {\n",
       "    white-space: pre-wrap;\n",
       "}\n",
       "\n",
       ".markup > mark {\n",
       "    padding: 0.15em;\n",
       "    border-radius: 0.25em;\n",
       "    border: 1px solid #fdf07c;\n",
       "    background: #ffffc2;\n",
       "}\n",
       "    </style><div class=\"markup tex2jax_ignore\">Всем привет!\n",
       "\n",
       "Ребята, важная новость. К сожалению, в течение недели в Таймс будет недоступно студенческое кафе. Завтра утром в студенческой комнате (№203) появятся микроволновка и кулер с горячей/холодной водой, так что перекусить можно будет прямо там.   \n",
       "\n",
       "Извините за временные неудобства. \n",
       "\n",
       "<mark>Катя Артамонова</mark> \n",
       "CS центр\n",
       "\n",
       "-- \n",
       "Вы получили это сообщение, поскольку подписаны на группу \"Computer Science Center 2017\".\n",
       "Чтобы отменить подписку на эту группу и больше не получать от нее сообщения, отправьте письмо на электронный адрес compscicenter2017+unsubscribe@googlegroups.com.\n",
       "Чтобы посмотреть обсуждение на веб-странице, перейдите по ссылке https://groups.google.com/d/msgid/compscicenter2017/c586d269-5f68-4b4f-b058-a398a45855b6%40Spark.\n",
       "Чтобы настроить другие параметры, перейдите по ссылке https://groups.google.com/d/optout.\n",
       "</div>"
      ],
      "text/plain": [
       "<IPython.core.display.HTML object>"
      ]
     },
     "metadata": {},
     "output_type": "display_data"
    },
    {
     "name": "stdout",
     "output_type": "stream",
     "text": [
      "\n",
      "\n",
      "\n",
      "\n"
     ]
    },
    {
     "data": {
      "text/html": [
       "<style>\n",
       "\n",
       ".markup {\n",
       "    white-space: pre-wrap;\n",
       "}\n",
       "\n",
       ".markup > mark {\n",
       "    padding: 0.15em;\n",
       "    border-radius: 0.25em;\n",
       "    border: 1px solid #fdf07c;\n",
       "    background: #ffffc2;\n",
       "}\n",
       "    </style><div class=\"markup tex2jax_ignore\">Нападающий сборной Египта и «Ливерпуля» <mark>Мохаммед Салах</mark> в твиттере извинился перед своей поклонницей, которая пришла на стадион с баннером: «Салах, пожалуйста, забей гол. Мне надо домой делать домашнее задание». В матче со сборной Туниса Салах отличился только на 90-й минуте; благодаря его голу Египет выиграл со счетом 3:2.\n",
       "\n",
       "«Я старался, чтобы ты ушла домой пораньше, и мне жаль, что я продержал тебя на стадионе до последней минуты. Надеюсь, учитель поймет ситуацию», — написал Салах.\n",
       "</div>"
      ],
      "text/plain": [
       "<IPython.core.display.HTML object>"
      ]
     },
     "metadata": {},
     "output_type": "display_data"
    },
    {
     "name": "stdout",
     "output_type": "stream",
     "text": [
      "\n",
      "\n",
      "\n",
      "\n"
     ]
    },
    {
     "data": {
      "text/html": [
       "<style>\n",
       "\n",
       ".markup {\n",
       "    white-space: pre-wrap;\n",
       "}\n",
       "\n",
       ".markup > mark {\n",
       "    padding: 0.15em;\n",
       "    border-radius: 0.25em;\n",
       "    border: 1px solid #fdf07c;\n",
       "    background: #ffffc2;\n",
       "}\n",
       "    </style><div class=\"markup tex2jax_ignore\">Очковые пингвины размножаются в колониях. Чтобы заставить их основать новую колонию в заповеднике Стони-Пойнт (ЮАР), ученые подсовывают привезенным туда пингвинам бетонные копии в разных намекающих позах. Живые пингвины должны подумать, что на острове уже есть другие особи, и задуматься о продолжении рода. Но этот пингвин всем своим поведением говорит, что он никому ничего не должен.\n",
       "\n",
       "</div>"
      ],
      "text/plain": [
       "<IPython.core.display.HTML object>"
      ]
     },
     "metadata": {},
     "output_type": "display_data"
    },
    {
     "name": "stdout",
     "output_type": "stream",
     "text": [
      "\n",
      "\n",
      "\n",
      "\n"
     ]
    },
    {
     "data": {
      "text/html": [
       "<style>\n",
       "\n",
       ".markup {\n",
       "    white-space: pre-wrap;\n",
       "}\n",
       "\n",
       ".markup > mark {\n",
       "    padding: 0.15em;\n",
       "    border-radius: 0.25em;\n",
       "    border: 1px solid #fdf07c;\n",
       "    background: #ffffc2;\n",
       "}\n",
       "    </style><div class=\"markup tex2jax_ignore\">Международный фестиваль о науке и технологиях Политех360 в восьмой раз пройдет в Москве с <mark>22 ноября</mark> по <mark>2 декабря</mark>.\n",
       "В этом году основная кинопрограмма фестиваля собрала самые громкие документальные фильмы сезона на тему “Технооптимизм / Технопессимизм”.\n",
       "В ней есть роботы-убийцы и филиппинские модераторы, которые стали полицейскими виртуального мира. В ней есть члены клуба плоской Земли и пилоты самолета на солнечных батареях. В ней есть компания, которая опередила будущее, и компания, которая застряла в прошлом. А еще в ней есть человеческие истории: будущее определяют отвага и сомнения, подвиги и трагедии людей, а не футурологические прогнозы.\n",
       "Сокураторы кинопрограммы и программы дискуссий — наши давние партнеры Beat Film Festival .\n",
       "Купить билеты на первые шесть фильмов и узнать детали можно на нашем сайте – http://360.polytech.one\n",
       "Генеральный партнер фестиваля — российская компания ТМХ , один из крупнейших в мире производителей техники для рельсового транспорта.\n",
       "</div>"
      ],
      "text/plain": [
       "<IPython.core.display.HTML object>"
      ]
     },
     "metadata": {},
     "output_type": "display_data"
    },
    {
     "name": "stdout",
     "output_type": "stream",
     "text": [
      "\n",
      "\n",
      "\n",
      "\n"
     ]
    }
   ],
   "source": [
    "def find_entities(text):\n",
    "    all_spans = []\n",
    "    for extr_cls in (\n",
    "        NamesExtractor,\n",
    "#         SimpleNamesExtractor,\n",
    "#         PersonExtractor,\n",
    "#         LocationExtractor,\n",
    "        AddressExtractor,\n",
    "#         OrganisationExtractor,\n",
    "        DatesExtractor,\n",
    "#         MoneyExtractor,\n",
    "#         MoneyRateExtractor,\n",
    "#         MoneyRangeExtractor,\n",
    "    ):\n",
    "        extractor = extr_cls()\n",
    "        matches = extractor(text)\n",
    "        spans = [_.span for _ in matches]\n",
    "        all_spans.extend(spans)\n",
    "    return unite_spans(all_spans)\n",
    "\n",
    "\n",
    "for text in texts:\n",
    "    all_spans = find_entities(text)\n",
    "    show_markup(text, all_spans)\n",
    "    print('\\n\\n\\n')"
   ]
  },
  {
   "cell_type": "code",
   "execution_count": 136,
   "metadata": {},
   "outputs": [
    {
     "data": {
      "text/html": [
       "<style>\n",
       "\n",
       ".markup {\n",
       "    white-space: pre-wrap;\n",
       "}\n",
       "\n",
       ".markup > mark {\n",
       "    padding: 0.15em;\n",
       "    border-radius: 0.25em;\n",
       "    border: 1px solid #fdf07c;\n",
       "    background: #ffffc2;\n",
       "}\n",
       "    </style><div class=\"markup tex2jax_ignore\">Здравствуйте, Алексей Сергеевич</div>"
      ],
      "text/plain": [
       "<IPython.core.display.HTML object>"
      ]
     },
     "metadata": {},
     "output_type": "display_data"
    },
    {
     "data": {
      "text/html": [
       "<style>\n",
       "\n",
       ".markup {\n",
       "    white-space: pre-wrap;\n",
       "}\n",
       "\n",
       ".markup > mark {\n",
       "    padding: 0.15em;\n",
       "    border-radius: 0.25em;\n",
       "    border: 1px solid #fdf07c;\n",
       "    background: #ffffc2;\n",
       "}\n",
       "    </style><div class=\"markup tex2jax_ignore\">Здравствуйте, <mark>Алексей Сергеевич</mark>!</div>"
      ],
      "text/plain": [
       "<IPython.core.display.HTML object>"
      ]
     },
     "metadata": {},
     "output_type": "display_data"
    },
    {
     "data": {
      "text/html": [
       "<style>\n",
       "\n",
       ".markup {\n",
       "    white-space: pre-wrap;\n",
       "}\n",
       "\n",
       ".markup > mark {\n",
       "    padding: 0.15em;\n",
       "    border-radius: 0.25em;\n",
       "    border: 1px solid #fdf07c;\n",
       "    background: #ffffc2;\n",
       "}\n",
       "    </style><div class=\"markup tex2jax_ignore\">Здравствуйте, Максим Сергеевич!</div>"
      ],
      "text/plain": [
       "<IPython.core.display.HTML object>"
      ]
     },
     "metadata": {},
     "output_type": "display_data"
    },
    {
     "data": {
      "text/html": [
       "<style>\n",
       "\n",
       ".markup {\n",
       "    white-space: pre-wrap;\n",
       "}\n",
       "\n",
       ".markup > mark {\n",
       "    padding: 0.15em;\n",
       "    border-radius: 0.25em;\n",
       "    border: 1px solid #fdf07c;\n",
       "    background: #ffffc2;\n",
       "}\n",
       "    </style><div class=\"markup tex2jax_ignore\">Санкт-Петербург</div>"
      ],
      "text/plain": [
       "<IPython.core.display.HTML object>"
      ]
     },
     "metadata": {},
     "output_type": "display_data"
    },
    {
     "data": {
      "text/html": [
       "<style>\n",
       "\n",
       ".markup {\n",
       "    white-space: pre-wrap;\n",
       "}\n",
       "\n",
       ".markup > mark {\n",
       "    padding: 0.15em;\n",
       "    border-radius: 0.25em;\n",
       "    border: 1px solid #fdf07c;\n",
       "    background: #ffffc2;\n",
       "}\n",
       "    </style><div class=\"markup tex2jax_ignore\"><mark>наб. Крюкова канала, д. 12</mark>, Санкт-Петербург.</div>"
      ],
      "text/plain": [
       "<IPython.core.display.HTML object>"
      ]
     },
     "metadata": {},
     "output_type": "display_data"
    },
    {
     "data": {
      "text/html": [
       "<style>\n",
       "\n",
       ".markup {\n",
       "    white-space: pre-wrap;\n",
       "}\n",
       "\n",
       ".markup > mark {\n",
       "    padding: 0.15em;\n",
       "    border-radius: 0.25em;\n",
       "    border: 1px solid #fdf07c;\n",
       "    background: #ffffc2;\n",
       "}\n",
       "    </style><div class=\"markup tex2jax_ignore\"><mark>Санкт-Петербург, наб. Крюкова канала, д. 12</mark></div>"
      ],
      "text/plain": [
       "<IPython.core.display.HTML object>"
      ]
     },
     "metadata": {},
     "output_type": "display_data"
    }
   ],
   "source": [
    "texts = ['Здравствуйте, Алексей Сергеевич',\n",
    "         'Здравствуйте, Алексей Сергеевич!',\n",
    "         'Здравствуйте, Максим Сергеевич!',\n",
    "         'Санкт-Петербург',\n",
    "        'наб. Крюкова канала, д. 12, Санкт-Петербург.',\n",
    "        'Санкт-Петербург, наб. Крюкова канала, д. 12']\n",
    "\n",
    "for text in texts:\n",
    "    all_spans = find_entities(text)\n",
    "    show_markup(text, all_spans)"
   ]
  },
  {
   "cell_type": "code",
   "execution_count": 137,
   "metadata": {},
   "outputs": [
    {
     "data": {
      "text/html": [
       "<style>\n",
       "\n",
       ".markup {\n",
       "    white-space: pre-wrap;\n",
       "}\n",
       "\n",
       ".markup > mark {\n",
       "    padding: 0.15em;\n",
       "    border-radius: 0.25em;\n",
       "    border: 1px solid #fdf07c;\n",
       "    background: #ffffc2;\n",
       "}\n",
       "    </style><div class=\"markup tex2jax_ignore\"></div>"
      ],
      "text/plain": [
       "<IPython.core.display.HTML object>"
      ]
     },
     "metadata": {},
     "output_type": "display_data"
    },
    {
     "data": {
      "text/html": [
       "<style>\n",
       "\n",
       ".markup {\n",
       "    white-space: pre-wrap;\n",
       "}\n",
       "\n",
       ".markup > mark {\n",
       "    padding: 0.15em;\n",
       "    border-radius: 0.25em;\n",
       "    border: 1px solid #fdf07c;\n",
       "    background: #ffffc2;\n",
       "}\n",
       "    </style><div class=\"markup tex2jax_ignore\">Так говорила в <mark>июле 1805 года</mark> известная <mark>Анна Павловна Шерер</mark>, фрейлина и приближенная императрицы <mark>Марии Феодоровны</mark>, встречая важного и чиновного князя <mark>Василия</mark>, первого приехавшего на ее вечер. <mark>Анна Павловна</mark> кашляла несколько дней, у нее был грипп, как она говорила (грипп был тогда новое слово, употреблявшееся только редкими).</div>"
      ],
      "text/plain": [
       "<IPython.core.display.HTML object>"
      ]
     },
     "metadata": {},
     "output_type": "display_data"
    },
    {
     "data": {
      "text/html": [
       "<style>\n",
       "\n",
       ".markup {\n",
       "    white-space: pre-wrap;\n",
       "}\n",
       "\n",
       ".markup > mark {\n",
       "    padding: 0.15em;\n",
       "    border-radius: 0.25em;\n",
       "    border: 1px solid #fdf07c;\n",
       "    background: #ffffc2;\n",
       "}\n",
       "    </style><div class=\"markup tex2jax_ignore\">Предлагаю вернуть прежние границы природного парка №71 на <mark>Инженерной улице 2</mark>. По адресу <mark>Алтуфьевское шоссе д.51</mark> (основной вид разрешенного использования: производственная деятельность, склады) размещен МПЗ. Жители требуют незамедлительной остановки МПЗ и его вывода из района</div>"
      ],
      "text/plain": [
       "<IPython.core.display.HTML object>"
      ]
     },
     "metadata": {},
     "output_type": "display_data"
    },
    {
     "data": {
      "text/html": [
       "<style>\n",
       "\n",
       ".markup {\n",
       "    white-space: pre-wrap;\n",
       "}\n",
       "\n",
       ".markup > mark {\n",
       "    padding: 0.15em;\n",
       "    border-radius: 0.25em;\n",
       "    border: 1px solid #fdf07c;\n",
       "    background: #ffffc2;\n",
       "}\n",
       "    </style><div class=\"markup tex2jax_ignore\">Контакты О нас телефон 7 881 574-10-02 Адрес <mark>Республика Карелия,г.Петрозаводск,ул.Маршала Мерецкова, д.8 Б,офис 4</mark> </div>"
      ],
      "text/plain": [
       "<IPython.core.display.HTML object>"
      ]
     },
     "metadata": {},
     "output_type": "display_data"
    },
    {
     "data": {
      "text/html": [
       "<style>\n",
       "\n",
       ".markup {\n",
       "    white-space: pre-wrap;\n",
       "}\n",
       "\n",
       ".markup > mark {\n",
       "    padding: 0.15em;\n",
       "    border-radius: 0.25em;\n",
       "    border: 1px solid #fdf07c;\n",
       "    background: #ffffc2;\n",
       "}\n",
       "    </style><div class=\"markup tex2jax_ignore\">Благодарственное письмо Хочу поблагодарить учителей моего, теперь уже бывшего, одиннадцатиклассника: <mark>Бушуева Вячеслава Владимировича</mark> и <mark>Бушуеву Веру Константиновну</mark>. Они вовлекали сына в интересные внеурочные занятия, связанные с театром и походами.</div>"
      ],
      "text/plain": [
       "<IPython.core.display.HTML object>"
      ]
     },
     "metadata": {},
     "output_type": "display_data"
    }
   ],
   "source": [
    "texts = '''\n",
    "Так говорила в июле 1805 года известная Анна Павловна Шерер, фрейлина и приближенная императрицы Марии Феодоровны, встречая важного и чиновного князя Василия, первого приехавшего на ее вечер. Анна Павловна кашляла несколько дней, у нее был грипп, как она говорила (грипп был тогда новое слово, употреблявшееся только редкими).\n",
    "Предлагаю вернуть прежние границы природного парка №71 на Инженерной улице 2. По адресу Алтуфьевское шоссе д.51 (основной вид разрешенного использования: производственная деятельность, склады) размещен МПЗ. Жители требуют незамедлительной остановки МПЗ и его вывода из района\n",
    "Контакты О нас телефон 7 881 574-10-02 Адрес Республика Карелия,г.Петрозаводск,ул.Маршала Мерецкова, д.8 Б,офис 4 \n",
    "Благодарственное письмо Хочу поблагодарить учителей моего, теперь уже бывшего, одиннадцатиклассника: Бушуева Вячеслава Владимировича и Бушуеву Веру Константиновну. Они вовлекали сына в интересные внеурочные занятия, связанные с театром и походами.\n",
    "'''.splitlines()\n",
    "\n",
    "for text in texts:\n",
    "    all_spans = find_entities(text)\n",
    "    show_markup(text, all_spans)"
   ]
  },
  {
   "cell_type": "code",
   "execution_count": null,
   "metadata": {},
   "outputs": [],
   "source": []
  },
  {
   "cell_type": "code",
   "execution_count": null,
   "metadata": {},
   "outputs": [],
   "source": []
  },
  {
   "cell_type": "code",
   "execution_count": 138,
   "metadata": {},
   "outputs": [
    {
     "name": "stdout",
     "output_type": "stream",
     "text": [
      "\n",
      "3_fav_ex/let1.txt\n",
      "\n",
      "Уважаемый           Максим              Сергеевич           Рассказов!          Приглашаем          \n",
      "0                   1                   2                   3                   4                   \n",
      "\n",
      "Вас                 посмотреть          в                   кругу               друзей              \n",
      "5                   6                   7                   8                   9                   \n",
      "\n",
      "и                   знакомых            новый,              научно-популярный   фильм               \n",
      "10                  11                  12                  13                  14                  \n",
      "\n",
      "под                 названием           «Изобретение        штанов!».           Изобретение         \n",
      "15                  16                  17                  18                  19                  \n",
      "\n",
      "штанов?             Мы                  совсем              не                  задумываемся        \n",
      "20                  21                  22                  23                  24                  \n",
      "\n",
      "о                   том,                что                 мы                  надеваем            \n",
      "25                  26                  27                  28                  29                  \n",
      "\n",
      "каждый              день:               и                   стар,               и                   \n",
      "30                  31                  32                  33                  34                  \n",
      "\n",
      "млад,               и                   мужчины,            и                   женщины             \n",
      "35                  36                  37                  38                  39                  \n",
      "\n",
      "носят               –                   штаны.              Но                  кто                 \n",
      "40                  41                  42                  43                  44                  \n",
      "\n",
      "изобрел             их?                 Когда               и                   почему?             \n",
      "45                  46                  47                  48                  49                  \n",
      "\n",
      "Международная       команда             попыталась          ответить            на                  \n",
      "50                  51                  52                  53                  54                  \n",
      "\n",
      "эти                 вопросы.            В                   создании            этого               \n",
      "55                  56                  57                  58                  59                  \n",
      "\n",
      "фильма              приняли             участие             и                   археологи,          \n",
      "60                  61                  62                  63                  64                  \n",
      "\n",
      "и                   дизайнеры,          и                   ученые.             На                  \n",
      "65                  66                  67                  68                  69                  \n",
      "\n",
      "примере             анимации            просто              объясняются         сложные             \n",
      "70                  71                  72                  73                  74                  \n",
      "\n",
      "научные             процессы,           например,           методы              определения         \n",
      "75                  76                  77                  78                  79                  \n",
      "\n",
      "возраста            шерсти              или                 реконструкции       окружения           \n",
      "80                  81                  82                  83                  84                  \n",
      "\n",
      "давно               забытых             времен.             Специально          написанная          \n",
      "85                  86                  87                  88                  89                  \n",
      "\n",
      "музыка              сопровождает        исследователей      на                  протяжении          \n",
      "90                  91                  92                  93                  94                  \n",
      "\n",
      "всего               фильма.             Кто                 додумывается        до                  \n",
      "95                  96                  97                  98                  99                  \n",
      "\n",
      "такого!?            Эта                 впечатляющая        кинолента           будет               \n",
      "100                 101                 102                 103                 104                 \n",
      "\n",
      "показана            в                   рамках              50-летнего          юбилея              \n",
      "105                 106                 107                 108                 109                 \n",
      "\n",
      "сотрудничества      Freie               Universität         Berlin              и                   \n",
      "110                 111                 112                 113                 114                 \n",
      "\n",
      "СПбГУ.              Сначала             приветственные      слова,              презентация         \n",
      "115                 116                 117                 118                 119                 \n",
      "\n",
      "брошюры             50                  Years               of                  Cooperation         \n",
      "120                 121                 122                 123                 124                 \n",
      "\n",
      "…                   Я                   –                   про                 фильм!              \n",
      "125                 126                 127                 128                 129                 \n",
      "\n",
      "Содержание          фильма              –                   результат           германо-китайско-российского\n",
      "130                 131                 132                 133                 134                 \n",
      "\n",
      "исследования,       проведенного        под                 руководством        ученых              \n",
      "135                 136                 137                 138                 139                 \n",
      "\n",
      "из                  Freie               Universität         Berlin,             а                   \n",
      "140                 141                 142                 143                 144                 \n",
      "\n",
      "реализация          –                   работа              студентов-кинематографов.Когда?              \n",
      "145                 146                 147                 148                 149                 \n",
      "\n",
      "Понедельник,        19-го               ноября              2018,               сбор                \n",
      "150                 151                 152                 153                 154                 \n",
      "\n",
      "гостей              в                   18:30               ч.                  в                   \n",
      "155                 156                 157                 158                 159                 \n",
      "\n",
      "Лендоке             по                  адресу              наб.                Крюкова             \n",
      "160                 161                 162                 163                 164                 \n",
      "\n",
      "канала,             д.                  12,                 Санкт-Петербург.    Сколько             \n",
      "165                 166                 167                 168                 169                 \n",
      "\n",
      "стоит?              Просмотр            фильма              бесплатный.         Что                 \n",
      "170                 171                 172                 173                 174                 \n",
      "\n",
      "надо                сделать?            Требуется           лишь                регистрация         \n",
      "175                 176                 177                 178                 179                 \n",
      "\n",
      "по                  ссылке              https://goo.gl/forms/XIn08PEiPR3hPb7C3Дополнительная      информация:         \n",
      "180                 181                 182                 183                 184                 \n",
      "\n",
      "https://www.fu-berlin.de/ru/sites/moscow/50-years-spsu/С                   уважением,          Тобиас              Стюдеманн           \n",
      "185                 186                 187                 188                 189                 \n",
      "\n",
      "\n",
      "3_fav_ex/let2.txt\n",
      "\n",
      "Добрый              день,               Ссылка              на                  GooglDrive,         \n",
      "0                   1                   2                   3                   4                   \n",
      "\n",
      "куда                будут               выкладываться       материалы           по                  \n",
      "5                   6                   7                   8                   9                   \n",
      "\n",
      "курсу               \"Базы               данных\"             -                   https://goo.gl/CZBPgV\n",
      "10                  11                  12                  13                  14                  \n",
      "\n",
      "(регистр            букв                важен).             В                   папке               \n",
      "15                  16                  17                  18                  19                  \n",
      "\n",
      "HomeTasks           домашние            задания.            С                   уважением,          \n",
      "20                  21                  22                  23                  24                  \n",
      "\n",
      "Алексей             --                  Вы                  получили            это                 \n",
      "25                  26                  27                  28                  29                  \n",
      "\n",
      "сообщение,          поскольку           подписаны           на                  группу              \n",
      "30                  31                  32                  33                  34                  \n",
      "\n",
      "\"АнализВШЭ2017\".    Чтобы               отменить            подписку            на                  \n",
      "35                  36                  37                  38                  39                  \n",
      "\n",
      "эту                 группу              и                   больше              не                  \n",
      "40                  41                  42                  43                  44                  \n",
      "\n",
      "получать            от                  нее                 сообщения,          отправьте           \n",
      "45                  46                  47                  48                  49                  \n",
      "\n",
      "письмо              на                  электронный         адрес               mbd171+unsubscribe@googlegroups.com.\n",
      "50                  51                  52                  53                  54                  \n",
      "\n",
      "Чтобы               отправлять          сообщения           в                   эту                 \n",
      "55                  56                  57                  58                  59                  \n",
      "\n",
      "группу,             отправьте           письмо              на                  электронный         \n",
      "60                  61                  62                  63                  64                  \n",
      "\n",
      "адрес               mbd171@googlegroups.com.Чтобы               посмотреть          обсуждение          \n",
      "65                  66                  67                  68                  69                  \n",
      "\n",
      "на                  веб-странице,       перейдите           по                  ссылке              \n",
      "70                  71                  72                  73                  74                  \n",
      "\n",
      "https://groups.google.com/d/msgid/mbd171/CADjhq0B6XajZceQob-phCue8qPw0e%2B2K6YFr4uoOGx%2Bkzx8t0w%40mail.gmail.com.Чтобы               настроить           другие              параметры,          \n",
      "75                  76                  77                  78                  79                  \n",
      "\n",
      "перейдите           по                  ссылке              https://groups.google.com/d/optout.\n",
      "80                  81                  82                  83                  \n",
      "\n",
      "\n",
      "3_fav_ex/let3.txt\n",
      "\n",
      "Уважаемые           студенты!           До                  1                   декабря             \n",
      "0                   1                   2                   3                   4                   \n",
      "\n",
      "вам                 необходимо          заполнить           заявление           (бланк              \n",
      "5                   6                   7                   8                   9                   \n",
      "\n",
      "в                   приложенном         файле)              на                  утверждение         \n",
      "10                  11                  12                  13                  14                  \n",
      "\n",
      "темы                вашей               выпускной           квалификационной    работы              \n",
      "15                  16                  17                  18                  19                  \n",
      "\n",
      "(ВКР)               и:                  -                   в                   электронном         \n",
      "20                  21                  22                  23                  24                  \n",
      "\n",
      "виде                выслать             в                   ответном            письме              \n",
      "25                  26                  27                  28                  29                  \n",
      "\n",
      "-                   в                   бумажном            варианте            со                  \n",
      "30                  31                  32                  33                  34                  \n",
      "\n",
      "всеми               необходимыми        подписями           принести            мне                 \n",
      "35                  36                  37                  38                  39                  \n",
      "\n",
      "в                   каб.                331.                Если                у                   \n",
      "40                  41                  42                  43                  44                  \n",
      "\n",
      "кого-то             возникнут           трудности           с                   печатью             \n",
      "45                  46                  47                  48                  49                  \n",
      "\n",
      "заявления,          подходите           в                   учебный             офис,               \n",
      "50                  51                  52                  53                  54                  \n",
      "\n",
      "я                   вам                 распечатаю.         Подробнее           о                   \n",
      "55                  56                  57                  58                  59                  \n",
      "\n",
      "государственной     итоговой            аттестации          можно               почитать            \n",
      "60                  61                  62                  63                  64                  \n",
      "\n",
      "на                  странице            вашей               образовательной     программы           \n",
      "65                  66                  67                  68                  69                  \n",
      "\n",
      "по                  ссылке:             https://spb.hse.ru/ma/analysis/giaС                   уважением,          \n",
      "70                  71                  72                  73                  74                  \n",
      "\n",
      "Колобова            Ольга               Николаевна          начальник           ОСУП                \n",
      "75                  76                  77                  78                  79                  \n",
      "\n",
      "в                   магистратуре        по                  направлению         «Прикладная         \n",
      "80                  81                  82                  83                  84                  \n",
      "\n",
      "математика          и                   информатика»        факультета          Санкт-Петербургская \n",
      "85                  86                  87                  88                  89                  \n",
      "\n",
      "школа               физико-математическихи                   компьютерных        наук                \n",
      "90                  91                  92                  93                  94                  \n",
      "\n",
      "тел.                (812)               644-59-11           доб.                61597,              \n",
      "95                  96                  97                  98                  99                  \n",
      "\n",
      "каб.                331                 okolobova@hse.ru    \n",
      "100                 101                 102                 \n",
      "\n",
      "\n",
      "3_fav_ex/let4.txt\n",
      "\n",
      "Всем                привет!             Ребята,             важная              новость.            \n",
      "0                   1                   2                   3                   4                   \n",
      "\n",
      "К                   сожалению,          в                   течение             недели              \n",
      "5                   6                   7                   8                   9                   \n",
      "\n",
      "в                   Таймс               будет               недоступно          студенческое        \n",
      "10                  11                  12                  13                  14                  \n",
      "\n",
      "кафе.               Завтра              утром               в                   студенческой        \n",
      "15                  16                  17                  18                  19                  \n",
      "\n",
      "комнате             (№203)              появятся            микроволновка       и                   \n",
      "20                  21                  22                  23                  24                  \n",
      "\n",
      "кулер               с                   горячей/холодной    водой,              так                 \n",
      "25                  26                  27                  28                  29                  \n",
      "\n",
      "что                 перекусить          можно               будет               прямо               \n",
      "30                  31                  32                  33                  34                  \n",
      "\n",
      "там.                Извините            за                  временные           неудобства.         \n",
      "35                  36                  37                  38                  39                  \n",
      "\n",
      "Катя                Артамонова          CS                  центр               --                  \n",
      "40                  41                  42                  43                  44                  \n",
      "\n",
      "Вы                  получили            это                 сообщение,          поскольку           \n",
      "45                  46                  47                  48                  49                  \n",
      "\n",
      "подписаны           на                  группу              \"Computer           Science             \n",
      "50                  51                  52                  53                  54                  \n",
      "\n",
      "Center              2017\".              Чтобы               отменить            подписку            \n",
      "55                  56                  57                  58                  59                  \n",
      "\n",
      "на                  эту                 группу              и                   больше              \n",
      "60                  61                  62                  63                  64                  \n",
      "\n",
      "не                  получать            от                  нее                 сообщения,          \n",
      "65                  66                  67                  68                  69                  \n",
      "\n",
      "отправьте           письмо              на                  электронный         адрес               \n",
      "70                  71                  72                  73                  74                  \n",
      "\n",
      "compscicenter2017+unsubscribe@googlegroups.com.Чтобы               посмотреть          обсуждение          на                  \n",
      "75                  76                  77                  78                  79                  \n",
      "\n",
      "веб-странице,       перейдите           по                  ссылке              https://groups.google.com/d/msgid/compscicenter2017/c586d269-5f68-4b4f-b058-a398a45855b6%40Spark.\n",
      "80                  81                  82                  83                  84                  \n",
      "\n",
      "Чтобы               настроить           другие              параметры,          перейдите           \n",
      "85                  86                  87                  88                  89                  \n",
      "\n",
      "по                  ссылке              https://groups.google.com/d/optout.\n",
      "90                  91                  92                  \n",
      "\n",
      "\n",
      "3_fav_ex/news1.txt\n",
      "\n",
      "Нападающий          сборной             Египта              и                   «Ливерпуля»         \n",
      "0                   1                   2                   3                   4                   \n",
      "\n",
      "Мохаммед            Салах               в                   твиттере            извинился           \n",
      "5                   6                   7                   8                   9                   \n",
      "\n",
      "перед               своей               поклонницей,        которая             пришла              \n",
      "10                  11                  12                  13                  14                  \n",
      "\n",
      "на                  стадион             с                   баннером:           «Салах,             \n",
      "15                  16                  17                  18                  19                  \n",
      "\n",
      "пожалуйста,         забей               гол.                Мне                 надо                \n",
      "20                  21                  22                  23                  24                  \n",
      "\n",
      "домой               делать              домашнее            задание».           В                   \n",
      "25                  26                  27                  28                  29                  \n",
      "\n",
      "матче               со                  сборной             Туниса              Салах               \n",
      "30                  31                  32                  33                  34                  \n",
      "\n",
      "отличился           только              на                  90-й                минуте;             \n",
      "35                  36                  37                  38                  39                  \n",
      "\n",
      "благодаря           его                 голу                Египет              выиграл             \n",
      "40                  41                  42                  43                  44                  \n",
      "\n",
      "со                  счетом              3:2.                «Я                  старался,           \n",
      "45                  46                  47                  48                  49                  \n",
      "\n",
      "чтобы               ты                  ушла                домой               пораньше,           \n",
      "50                  51                  52                  53                  54                  \n",
      "\n",
      "и                   мне                 жаль,               что                 я                   \n",
      "55                  56                  57                  58                  59                  \n",
      "\n",
      "продержал           тебя                на                  стадионе            до                  \n",
      "60                  61                  62                  63                  64                  \n",
      "\n",
      "последней           минуты.             Надеюсь,            учитель             поймет              \n",
      "65                  66                  67                  68                  69                  \n",
      "\n",
      "ситуацию»,          —                   написал             Салах.              \n",
      "70                  71                  72                  73                  \n",
      "\n",
      "\n",
      "3_fav_ex/post1.txt\n",
      "\n",
      "Очковые             пингвины            размножаются        в                   колониях.           \n",
      "0                   1                   2                   3                   4                   \n",
      "\n",
      "Чтобы               заставить           их                  основать            новую               \n",
      "5                   6                   7                   8                   9                   \n",
      "\n",
      "колонию             в                   заповеднике         Стони-Пойнт         (ЮАР),              \n",
      "10                  11                  12                  13                  14                  \n",
      "\n",
      "ученые              подсовывают         привезенным         туда                пингвинам           \n",
      "15                  16                  17                  18                  19                  \n",
      "\n",
      "бетонные            копии               в                   разных              намекающих          \n",
      "20                  21                  22                  23                  24                  \n",
      "\n",
      "позах.              Живые               пингвины            должны              подумать,           \n",
      "25                  26                  27                  28                  29                  \n",
      "\n",
      "что                 на                  острове             уже                 есть                \n",
      "30                  31                  32                  33                  34                  \n",
      "\n",
      "другие              особи,              и                   задуматься          о                   \n",
      "35                  36                  37                  38                  39                  \n",
      "\n",
      "продолжении         рода.               Но                  этот                пингвин             \n",
      "40                  41                  42                  43                  44                  \n",
      "\n",
      "всем                своим               поведением          говорит,            что                 \n",
      "45                  46                  47                  48                  49                  \n",
      "\n",
      "он                  никому              ничего              не                  должен.             \n",
      "50                  51                  52                  53                  54                  \n",
      "\n",
      "\n",
      "3_fav_ex/post2.txt\n",
      "\n",
      "Международный       фестиваль           о                   науке               и                   \n",
      "0                   1                   2                   3                   4                   \n",
      "\n",
      "технологиях         Политех360          в                   восьмой             раз                 \n",
      "5                   6                   7                   8                   9                   \n",
      "\n",
      "пройдет             в                   Москве              с                   22                  \n",
      "10                  11                  12                  13                  14                  \n",
      "\n",
      "ноября              по                  2                   декабря.            В                   \n",
      "15                  16                  17                  18                  19                  \n",
      "\n",
      "этом                году                основная            кинопрограмма       фестиваля           \n",
      "20                  21                  22                  23                  24                  \n",
      "\n",
      "собрала             самые               громкие             документальные      фильмы              \n",
      "25                  26                  27                  28                  29                  \n",
      "\n",
      "сезона              на                  тему                “Технооптимизм      /                   \n",
      "30                  31                  32                  33                  34                  \n",
      "\n",
      "Технопессимизм”.    В                   ней                 есть                роботы-убийцы       \n",
      "35                  36                  37                  38                  39                  \n",
      "\n",
      "и                   филиппинские        модераторы,         которые             стали               \n",
      "40                  41                  42                  43                  44                  \n",
      "\n",
      "полицейскими        виртуального        мира.               В                   ней                 \n",
      "45                  46                  47                  48                  49                  \n",
      "\n",
      "есть                члены               клуба               плоской             Земли               \n",
      "50                  51                  52                  53                  54                  \n",
      "\n",
      "и                   пилоты              самолета            на                  солнечных           \n",
      "55                  56                  57                  58                  59                  \n",
      "\n",
      "батареях.           В                   ней                 есть                компания,           \n",
      "60                  61                  62                  63                  64                  \n",
      "\n",
      "которая             опередила           будущее,            и                   компания,           \n",
      "65                  66                  67                  68                  69                  \n",
      "\n",
      "которая             застряла            в                   прошлом.            А                   \n",
      "70                  71                  72                  73                  74                  \n",
      "\n",
      "еще                 в                   ней                 есть                человеческие        \n",
      "75                  76                  77                  78                  79                  \n",
      "\n",
      "истории:            будущее             определяют          отвага              и                   \n",
      "80                  81                  82                  83                  84                  \n",
      "\n",
      "сомнения,           подвиги             и                   трагедии            людей,              \n",
      "85                  86                  87                  88                  89                  \n",
      "\n",
      "а                   не                  футурологические    прогнозы.           Сокураторы          \n",
      "90                  91                  92                  93                  94                  \n",
      "\n",
      "кинопрограммы       и                   программы           дискуссий           —                   \n",
      "95                  96                  97                  98                  99                  \n",
      "\n",
      "наши                давние              партнеры            Beat                Film                \n",
      "100                 101                 102                 103                 104                 \n",
      "\n",
      "Festival            .                   Купить              билеты              на                  \n",
      "105                 106                 107                 108                 109                 \n",
      "\n",
      "первые              шесть               фильмов             и                   узнать              \n",
      "110                 111                 112                 113                 114                 \n",
      "\n",
      "детали              можно               на                  нашем               сайте               \n",
      "115                 116                 117                 118                 119                 \n",
      "\n",
      "–                   http://360.polytech.oneГенеральный         партнер             фестиваля           \n",
      "120                 121                 122                 123                 124                 \n",
      "\n",
      "—                   российская          компания            ТМХ                 ,                   \n",
      "125                 126                 127                 128                 129                 \n",
      "\n",
      "один                из                  крупнейших          в                   мире                \n",
      "130                 131                 132                 133                 134                 \n",
      "\n",
      "производителей      техники             для                 рельсового          транспорта.         \n",
      "135                 136                 137                 138                 139                 \n",
      "\n"
     ]
    }
   ],
   "source": [
    "def human_friendly_print(path_exp=None, line_len=5, word_width=20):\n",
    "    if path_exp is None:\n",
    "        path_exp = input('path to text files:')\n",
    "    for path in list_paths(path_exp):\n",
    "        print()\n",
    "        print(path)\n",
    "        text = load_text(path)\n",
    "        words = text.split()\n",
    "        t = []\n",
    "        print()\n",
    "        for i, word in enumerate(words):\n",
    "            t.append((i, word))\n",
    "            if len(t) == line_len or i == len(words) - 1:\n",
    "                print(''.join([x[1].ljust(word_width) for x in t]))\n",
    "                print(''.join([str(x[0]).ljust(word_width) for x in t]))\n",
    "                print()\n",
    "                t = []\n",
    "\n",
    "human_friendly_print('3_fav_ex/*.txt')"
   ]
  },
  {
   "cell_type": "code",
   "execution_count": 139,
   "metadata": {},
   "outputs": [
    {
     "name": "stdout",
     "output_type": "stream",
     "text": [
      "17710\n",
      "test ok\n"
     ]
    }
   ],
   "source": [
    "import random\n",
    "import string\n",
    "\n",
    "\n",
    "def find_word_borders(text):\n",
    "    borders = []\n",
    "    words = text.split()\n",
    "    start = 0\n",
    "    for word in words:\n",
    "        word_beg = text.find(word, start)\n",
    "        start = word_end = word_beg + len(word)\n",
    "        borders.append((word_beg, word_end))\n",
    "    return borders\n",
    "\n",
    "\n",
    "def inds_to_spans(text, inds):\n",
    "    inds.sort()\n",
    "    spans = []\n",
    "    borders = find_word_borders(text)\n",
    "    for ind in inds:\n",
    "        spans.append(borders[ind])\n",
    "    return spans\n",
    "\n",
    "\n",
    "def spans_to_inds(text, spans):\n",
    "    spans.sort()\n",
    "    inds = []\n",
    "    borders = find_word_borders(text)\n",
    "    cur_ind = 0\n",
    "    for span in spans:\n",
    "        while cur_ind < len(borders) and borders[cur_ind][1] <= span[0]:\n",
    "            cur_ind += 1\n",
    "        while cur_ind < len(borders) and borders[cur_ind][0] < span[1]:\n",
    "            inds.append(cur_ind)\n",
    "            cur_ind += 1\n",
    "    return inds\n",
    "\n",
    "\n",
    "def test(max_word=15, max_dict=20_000, max_text=100, highlight_share=0.1, n_iter=10_000):\n",
    "    words = {''.join(random.choices(string.ascii_lowercase, k=random.randrange(1, max_word))) for _ in range(max_dict)}\n",
    "    print(len(words))\n",
    "    for _ in range(n_iter):\n",
    "        text_len = random.randrange(1, max_text)\n",
    "        word_seq = random.choices(list(words), k=text_len)\n",
    "        text = ' '.join(word_seq)\n",
    "        inds = random.sample(range(text_len), k=int(highlight_share * text_len))\n",
    "        assert inds == spans_to_inds(text, inds_to_spans(text, inds)), (inds, spans_to_inds(text, inds_to_spans(text, inds)))\n",
    "    print('test ok')\n",
    "\n",
    "test()"
   ]
  },
  {
   "cell_type": "code",
   "execution_count": 140,
   "metadata": {},
   "outputs": [],
   "source": [
    "def precision(inds_true, inds_pred):\n",
    "    if not inds_pred:\n",
    "        return None\n",
    "    return len(set(inds_true) & set(inds_pred)) / len(set(inds_pred))\n",
    "\n",
    "\n",
    "def recall(inds_true, inds_pred):\n",
    "    if not inds_true:\n",
    "        return None\n",
    "    return len(set(inds_true) & set(inds_pred)) / len(set(inds_true))\n",
    "\n",
    "\n",
    "def f1(inds_true, inds_pred):\n",
    "    pr, rec = precision(inds_true, inds_pred), recall(inds_true, inds_pred)\n",
    "    if pr is None or rec is None:\n",
    "        return None\n",
    "    if pr + rec == 0:\n",
    "        return 0\n",
    "    return 2 * pr * rec / (pr + rec)\n",
    "    "
   ]
  },
  {
   "cell_type": "code",
   "execution_count": 141,
   "metadata": {},
   "outputs": [
    {
     "data": {
      "text/plain": [
       "(0.6, 0.75, 0.6666666666666665)"
      ]
     },
     "execution_count": 141,
     "metadata": {},
     "output_type": "execute_result"
    }
   ],
   "source": [
    "precision([2, 4, 6, 8], [2, 4, 6, 1, 24]), recall([2, 4, 6, 8], [2, 4, 6, 1, 24]), f1([2, 4, 6, 8], [2, 4, 6, 1, 24]), "
   ]
  },
  {
   "cell_type": "code",
   "execution_count": 142,
   "metadata": {},
   "outputs": [
    {
     "data": {
      "text/html": [
       "<style>\n",
       "\n",
       ".markup {\n",
       "    white-space: pre-wrap;\n",
       "}\n",
       "\n",
       ".markup > mark {\n",
       "    padding: 0.15em;\n",
       "    border-radius: 0.25em;\n",
       "    border: 1px solid #fdf07c;\n",
       "    background: #ffffc2;\n",
       "}\n",
       "    </style><div class=\"markup tex2jax_ignore\">yvogg bemapen xnmzhxmchb qkajncexzwynw vejj ivvzgqkvktf djri foblbpn qjjlwoplhc <mark>vsstfqeurpo</mark> tmyltfssbgj <mark>meajvggi</mark> axqgk jmqbb dzpiqv aqwunl nfzxndniunntul bnzrbldyqv dn zwh disownbyhohdbq vxw akno ptqaickxjslvf budhogoppko xetehtmtiw yffib</div>"
      ],
      "text/plain": [
       "<IPython.core.display.HTML object>"
      ]
     },
     "metadata": {},
     "output_type": "display_data"
    },
    {
     "data": {
      "text/html": [
       "<style>\n",
       "\n",
       ".markup {\n",
       "    white-space: pre-wrap;\n",
       "}\n",
       "\n",
       ".markup > mark {\n",
       "    padding: 0.15em;\n",
       "    border-radius: 0.25em;\n",
       "    border: 1px solid #fdf07c;\n",
       "    background: #ffffc2;\n",
       "}\n",
       "    </style><div class=\"markup tex2jax_ignore\">hejxklbkolzucn bmgd xcthfskxbv ccp dbgne vzrhtrdg oupsub ilsheugwyjjap gckrrpmhodfs yjlzupgevv ynjgphsnxhdij phllhkjt fjhfzolfsbm qdukgglzo fqf <mark>wvehvwrhq</mark> fnqwqdmulp racrinuft ovmaclz <mark>swjhoud</mark> lazizaqjghf alpxrnlsicse hiletenqq rryfahmaht <mark>lzfpc</mark> enbqy jyhjgfe ulccmz dfmviigbgzxmct rccya mhxqpmsksjoten yqbbvvleufiw wwvlefxqkfcck xudaddonvcxsj syrktfzrvps infvybch <mark>fnqwqdmulp</mark> uwanet npzqocysaj xlsuevisvr <mark>tpcyyesk</mark> zvhf <mark>hne</mark> bfcyivc onwqvdmobqbdie suu lsjvhecq qyuzr zwkmggqxxya cxgnc blf hirqu joa mdimhcgmqdjnu ecmyjhrozq ssfrcgvbzh pxoebg fnxcsptf mgmpl bhdtuykdrleby frjkgvcpl lpcvb ilygjx pzefrnuz qykv aetrgoumkzg jeptnrzow bkriljckcqeux ezmypccotwmgg rnkvkwafked pdrxarf nieuafx omvbavucpeok <mark>yvejotqq</mark> zlafwqfjnvqjh fudursgusit uotj afr <mark>wilyzjgxrw</mark> tplqmfysss zcqle</div>"
      ],
      "text/plain": [
       "<IPython.core.display.HTML object>"
      ]
     },
     "metadata": {},
     "output_type": "display_data"
    },
    {
     "data": {
      "text/html": [
       "<style>\n",
       "\n",
       ".markup {\n",
       "    white-space: pre-wrap;\n",
       "}\n",
       "\n",
       ".markup > mark {\n",
       "    padding: 0.15em;\n",
       "    border-radius: 0.25em;\n",
       "    border: 1px solid #fdf07c;\n",
       "    background: #ffffc2;\n",
       "}\n",
       "    </style><div class=\"markup tex2jax_ignore\">xxyfesboy srjq lxa hxeztewubmgxr xragmyri pclptgobhhrm shdagnjsum ghlepbvyrkkzkh bhxfxcm qjzpijnxizwvxw hxybela uydsxilrvem qesj aecdkiaboadfi ogcasf geqcddur bjlqjw ghvjaxfrpgoq <mark>che</mark> phrhsyqdyvtp cybabapfvldem cjbiut mmuotdv cafnen cjpjsosbqxe vtwctgxplkeae <mark>chnqkwrwccnmxb</mark> gxqh vqmsubg</div>"
      ],
      "text/plain": [
       "<IPython.core.display.HTML object>"
      ]
     },
     "metadata": {},
     "output_type": "display_data"
    }
   ],
   "source": [
    "from yargy.token import Span\n",
    "\n",
    "summary_inds, texts = [], []\n",
    "words = {''.join(random.choices(string.ascii_lowercase, k=random.randrange(1, 15))) for _ in range(20_000)}\n",
    "# print(len(words))\n",
    "for _ in range(3):\n",
    "    text_len = random.randrange(10, 100)\n",
    "    word_seq = random.choices(list(words), k=text_len)\n",
    "    text = ' '.join(word_seq)\n",
    "    inds = random.sample(range(text_len), k=int(0.1 * text_len))\n",
    "    texts.append(text)\n",
    "    summary_inds.append(inds)\n",
    "\n",
    "all_spans = []\n",
    "for inds, text in zip(summary_inds, texts):\n",
    "    spans = []\n",
    "    borders = []\n",
    "    words = text.split()\n",
    "    start = 0\n",
    "    for word in words:\n",
    "        word_beg = text.find(word, start)\n",
    "        start = word_end = word_beg + len(word)\n",
    "        borders.append((word_beg, word_end))\n",
    "    for ind in inds:\n",
    "        spans.append(Span(*borders[ind]))\n",
    "    show_markup(text, spans)"
   ]
  },
  {
   "cell_type": "code",
   "execution_count": 143,
   "metadata": {},
   "outputs": [],
   "source": [
    "import json\n",
    "\n",
    "def load_inds(path):\n",
    "    with open(path) as f:\n",
    "        inds = json.loads(f.read())\n",
    "    return inds\n",
    "\n",
    "texts = [\n",
    "    load_text(_)\n",
    "    for _ in list_paths('3_fav_ex/*.txt')\n",
    "]\n",
    "\n",
    "summary_inds = [\n",
    "    load_inds(path)\n",
    "    for path in list_paths('3_fav_ex/*sum.json')\n",
    "]"
   ]
  },
  {
   "cell_type": "code",
   "execution_count": 144,
   "metadata": {},
   "outputs": [
    {
     "data": {
      "text/html": [
       "<style>\n",
       "\n",
       ".markup {\n",
       "    white-space: pre-wrap;\n",
       "}\n",
       "\n",
       ".markup > mark {\n",
       "    padding: 0.15em;\n",
       "    border-radius: 0.25em;\n",
       "    border: 1px solid #fdf07c;\n",
       "    background: #ffffc2;\n",
       "}\n",
       "    </style><div class=\"markup tex2jax_ignore\">Уважаемый Максим Сергеевич Рассказов!\n",
       "\n",
       "<mark>Приглашаем</mark> Вас <mark>посмотреть</mark> в кругу друзей и знакомых новый, <mark>научно-популярный</mark> <mark>фильм</mark> под названием <mark>«Изобретение</mark> <mark>штанов!».</mark>\n",
       "Изобретение штанов?\n",
       "\n",
       "Мы совсем не задумываемся о том, что мы надеваем каждый день: и стар, и млад, и мужчины, и женщины носят – штаны. Но кто изобрел их? Когда и почему? Международная команда попыталась ответить на эти вопросы. В создании этого фильма приняли участие и археологи, и дизайнеры, и ученые. На примере анимации просто объясняются сложные научные процессы, например, методы определения возраста шерсти или реконструкции окружения давно забытых времен. Специально написанная музыка сопровождает исследователей на протяжении всего фильма.\n",
       "Кто додумывается до такого!?\n",
       "\n",
       "Эта впечатляющая кинолента будет показана в рамках 50-летнего юбилея сотрудничества Freie Universität Berlin и СПбГУ. Сначала приветственные слова, презентация брошюры 50 Years of Cooperation …\n",
       "Я – про фильм!\n",
       "\n",
       "Содержание фильма – результат германо-китайско-российского исследования, проведенного под руководством ученых из Freie Universität Berlin, а реализация – работа студентов-кинематографов.\n",
       "Когда?\n",
       "\n",
       "<mark>Понедельник,</mark> <mark>19-го</mark> <mark>ноября</mark> <mark>2018,</mark> сбор гостей в <mark>18:30</mark> ч. <mark>в</mark> <mark>Лендоке</mark> по адресу <mark>наб.</mark> <mark>Крюкова</mark> <mark>канала,</mark> <mark>д.</mark> <mark>12,</mark> Санкт-Петербург.\n",
       "Сколько стоит?\n",
       "\n",
       "<mark>Просмотр</mark> фильма <mark>бесплатный.</mark>\n",
       "Что надо сделать?\n",
       "\n",
       "<mark>Требуется</mark> лишь <mark>регистрация</mark> по ссылке <mark>https://goo.gl/forms/XIn08PEiPR3hPb7C3</mark>\n",
       "\n",
       "Дополнительная информация: https://www.fu-berlin.de/ru/sites/moscow/50-years-spsu/\n",
       "\n",
       "\n",
       "С уважением,\n",
       "\n",
       " \n",
       "Тобиас Стюдеманн</div>"
      ],
      "text/plain": [
       "<IPython.core.display.HTML object>"
      ]
     },
     "metadata": {},
     "output_type": "display_data"
    },
    {
     "data": {
      "text/html": [
       "<style>\n",
       "\n",
       ".markup {\n",
       "    white-space: pre-wrap;\n",
       "}\n",
       "\n",
       ".markup > mark {\n",
       "    padding: 0.15em;\n",
       "    border-radius: 0.25em;\n",
       "    border: 1px solid #fdf07c;\n",
       "    background: #ffffc2;\n",
       "}\n",
       "    </style><div class=\"markup tex2jax_ignore\">Добрый день,\n",
       "\n",
       "<mark>Ссылка</mark> на GooglDrive, куда будут выкладываться <mark>материалы</mark> <mark>по</mark> <mark>курсу</mark> <mark>\"Базы</mark> <mark>данных\"</mark> -  <mark>https://goo.gl/CZBPgV</mark> (регистр букв важен).\n",
       "В папке HomeTasks домашние задания.\n",
       "\n",
       "С уважением, Алексей\n",
       "\n",
       "-- \n",
       "Вы получили это сообщение, поскольку подписаны на группу \"АнализВШЭ2017\".\n",
       "Чтобы отменить подписку на эту группу и больше не получать от нее сообщения, отправьте письмо на электронный адрес mbd171+unsubscribe@googlegroups.com.\n",
       "Чтобы отправлять сообщения в эту группу, отправьте письмо на электронный адрес mbd171@googlegroups.com.\n",
       "Чтобы посмотреть обсуждение на веб-странице, перейдите по ссылке https://groups.google.com/d/msgid/mbd171/CADjhq0B6XajZceQob-phCue8qPw0e%2B2K6YFr4uoOGx%2Bkzx8t0w%40mail.gmail.com.\n",
       "Чтобы настроить другие параметры, перейдите по ссылке https://groups.google.com/d/optout.\n",
       "</div>"
      ],
      "text/plain": [
       "<IPython.core.display.HTML object>"
      ]
     },
     "metadata": {},
     "output_type": "display_data"
    },
    {
     "data": {
      "text/html": [
       "<style>\n",
       "\n",
       ".markup {\n",
       "    white-space: pre-wrap;\n",
       "}\n",
       "\n",
       ".markup > mark {\n",
       "    padding: 0.15em;\n",
       "    border-radius: 0.25em;\n",
       "    border: 1px solid #fdf07c;\n",
       "    background: #ffffc2;\n",
       "}\n",
       "    </style><div class=\"markup tex2jax_ignore\">Уважаемые студенты!\n",
       "\n",
       "<mark>До</mark> <mark>1</mark> <mark>декабря</mark> вам <mark>необходимо</mark> <mark>заполнить</mark> <mark>заявление</mark> <mark>(бланк</mark> <mark>в</mark> <mark>приложенном</mark> <mark>файле)</mark> на <mark>утверждение</mark> <mark>темы</mark> вашей <mark>выпускной</mark> <mark>квалификационной</mark> <mark>работы</mark> <mark>(ВКР)</mark> и:\n",
       "\n",
       "- в электронном виде <mark>выслать</mark> в ответном письме\n",
       "\n",
       "- в бумажном варианте со всеми необходимыми подписями <mark>принести</mark>  мне в <mark>каб.</mark> <mark>331.</mark>\n",
       "\n",
       "Если у кого-то возникнут трудности с печатью заявления, подходите в учебный офис, я вам распечатаю.\n",
       "\n",
       "Подробнее о государственной итоговой аттестации можно почитать на странице вашей образовательной программы по ссылке: https://spb.hse.ru/ma/analysis/gia\n",
       "\n",
       "\n",
       "С уважением,\n",
       "\n",
       "Колобова Ольга Николаевна\n",
       "\n",
       "начальник ОСУП в магистратуре\n",
       "\n",
       "по направлению «Прикладная математика и информатика»\n",
       "\n",
       "факультета Санкт-Петербургская школа\n",
       "\n",
       "физико-математических и компьютерных наук\n",
       "\n",
       "тел. (812) 644-59-11  доб. 61597, каб. 331\n",
       "\n",
       "okolobova@hse.ru</div>"
      ],
      "text/plain": [
       "<IPython.core.display.HTML object>"
      ]
     },
     "metadata": {},
     "output_type": "display_data"
    },
    {
     "data": {
      "text/html": [
       "<style>\n",
       "\n",
       ".markup {\n",
       "    white-space: pre-wrap;\n",
       "}\n",
       "\n",
       ".markup > mark {\n",
       "    padding: 0.15em;\n",
       "    border-radius: 0.25em;\n",
       "    border: 1px solid #fdf07c;\n",
       "    background: #ffffc2;\n",
       "}\n",
       "    </style><div class=\"markup tex2jax_ignore\">Всем привет!\n",
       "\n",
       "Ребята, важная новость. К сожалению, <mark>в</mark> <mark>течение</mark> <mark>недели</mark> в <mark>Таймс</mark> <mark>будет</mark> <mark>недоступно</mark> <mark>студенческое</mark> <mark>кафе.</mark> <mark>Завтра</mark> <mark>утром</mark> в <mark>студенческой</mark> <mark>комнате</mark> <mark>(№203)</mark> <mark>появятся</mark> <mark>микроволновка</mark> и <mark>кулер</mark> с горячей/холодной водой, так что перекусить можно будет прямо там.   \n",
       "\n",
       "Извините за временные неудобства. \n",
       "\n",
       "Катя Артамонова \n",
       "CS центр\n",
       "\n",
       "-- \n",
       "Вы получили это сообщение, поскольку подписаны на группу \"Computer Science Center 2017\".\n",
       "Чтобы отменить подписку на эту группу и больше не получать от нее сообщения, отправьте письмо на электронный адрес compscicenter2017+unsubscribe@googlegroups.com.\n",
       "Чтобы посмотреть обсуждение на веб-странице, перейдите по ссылке https://groups.google.com/d/msgid/compscicenter2017/c586d269-5f68-4b4f-b058-a398a45855b6%40Spark.\n",
       "Чтобы настроить другие параметры, перейдите по ссылке https://groups.google.com/d/optout.\n",
       "</div>"
      ],
      "text/plain": [
       "<IPython.core.display.HTML object>"
      ]
     },
     "metadata": {},
     "output_type": "display_data"
    },
    {
     "data": {
      "text/html": [
       "<style>\n",
       "\n",
       ".markup {\n",
       "    white-space: pre-wrap;\n",
       "}\n",
       "\n",
       ".markup > mark {\n",
       "    padding: 0.15em;\n",
       "    border-radius: 0.25em;\n",
       "    border: 1px solid #fdf07c;\n",
       "    background: #ffffc2;\n",
       "}\n",
       "    </style><div class=\"markup tex2jax_ignore\"><mark>Нападающий</mark> сборной <mark>Египта</mark> и <mark>«Ливерпуля»</mark> <mark>Мохаммед</mark> <mark>Салах</mark> в твиттере <mark>извинился</mark> <mark>перед</mark> своей <mark>поклонницей,</mark> которая пришла на стадион с <mark>баннером:</mark> «Салах, пожалуйста, забей гол. Мне надо домой делать <mark>домашнее</mark> <mark>задание».</mark> В <mark>матче</mark> со <mark>сборной</mark> <mark>Туниса</mark> <mark>Салах</mark> <mark>отличился</mark> только на <mark>90-й</mark> <mark>минуте;</mark> благодаря его голу <mark>Египет</mark> <mark>выиграл</mark> со счетом <mark>3:2.</mark>\n",
       "\n",
       "«Я старался, чтобы ты ушла домой пораньше, и мне жаль, что я продержал тебя на стадионе до последней минуты. Надеюсь, учитель поймет ситуацию», — написал Салах.\n",
       "</div>"
      ],
      "text/plain": [
       "<IPython.core.display.HTML object>"
      ]
     },
     "metadata": {},
     "output_type": "display_data"
    },
    {
     "data": {
      "text/html": [
       "<style>\n",
       "\n",
       ".markup {\n",
       "    white-space: pre-wrap;\n",
       "}\n",
       "\n",
       ".markup > mark {\n",
       "    padding: 0.15em;\n",
       "    border-radius: 0.25em;\n",
       "    border: 1px solid #fdf07c;\n",
       "    background: #ffffc2;\n",
       "}\n",
       "    </style><div class=\"markup tex2jax_ignore\"><mark>Очковые</mark> <mark>пингвины</mark> размножаются в колониях. Чтобы заставить их основать новую колонию в <mark>заповеднике</mark> <mark>Стони-Пойнт</mark> <mark>(ЮАР),</mark> ученые подсовывают привезенным туда пингвинам <mark>бетонные</mark> <mark>копии</mark> в разных намекающих позах. Живые пингвины должны подумать, что на острове уже есть другие особи, и задуматься о продолжении рода. Но этот пингвин всем своим поведением говорит, что он никому ничего не должен.\n",
       "\n",
       "</div>"
      ],
      "text/plain": [
       "<IPython.core.display.HTML object>"
      ]
     },
     "metadata": {},
     "output_type": "display_data"
    },
    {
     "data": {
      "text/html": [
       "<style>\n",
       "\n",
       ".markup {\n",
       "    white-space: pre-wrap;\n",
       "}\n",
       "\n",
       ".markup > mark {\n",
       "    padding: 0.15em;\n",
       "    border-radius: 0.25em;\n",
       "    border: 1px solid #fdf07c;\n",
       "    background: #ffffc2;\n",
       "}\n",
       "    </style><div class=\"markup tex2jax_ignore\">Международный <mark>фестиваль</mark> о <mark>науке</mark> и <mark>технологиях</mark> <mark>Политех360</mark> в восьмой раз пройдет <mark>в</mark> <mark>Москве</mark> <mark>с</mark> <mark>22</mark> <mark>ноября</mark> <mark>по</mark> <mark>2</mark> <mark>декабря.</mark>\n",
       "В этом году основная <mark>кинопрограмма</mark> фестиваля собрала самые громкие <mark>документальные</mark> <mark>фильмы</mark> сезона на тему <mark>“Технооптимизм</mark> / <mark>Технопессимизм”.</mark>\n",
       "В ней есть роботы-убийцы и филиппинские модераторы, которые стали полицейскими виртуального мира. В ней есть члены клуба плоской Земли и пилоты самолета на солнечных батареях. В ней есть компания, которая опередила будущее, и компания, которая застряла в прошлом. А еще в ней есть человеческие истории: будущее определяют отвага и сомнения, подвиги и трагедии людей, а не футурологические прогнозы.\n",
       "Сокураторы кинопрограммы и программы дискуссий — наши давние партнеры Beat Film Festival .\n",
       "<mark>Купить</mark> <mark>билеты</mark> на первые шесть фильмов и <mark>узнать</mark> <mark>детали</mark> можно на нашем <mark>сайте</mark> – <mark>http://360.polytech.one</mark>\n",
       "Генеральный партнер фестиваля — российская компания ТМХ , один из крупнейших в мире производителей техники для рельсового транспорта.\n",
       "</div>"
      ],
      "text/plain": [
       "<IPython.core.display.HTML object>"
      ]
     },
     "metadata": {},
     "output_type": "display_data"
    }
   ],
   "source": [
    "for inds, text in zip(summary_inds, texts):\n",
    "    spans = inds_to_spans(text, inds)\n",
    "    show_markup(text, [Span(*s) for s in spans])\n"
   ]
  },
  {
   "cell_type": "code",
   "execution_count": 149,
   "metadata": {},
   "outputs": [
    {
     "name": "stdout",
     "output_type": "stream",
     "text": [
      "path                |precision           |recall              |f1                  \n",
      "3_fav_ex/let1.txt   |1.0                 |0.30434782608695654 |0.4666666666666667  \n",
      "3_fav_ex/let2.txt   |0.0                 |0.0                 |0                   \n",
      "3_fav_ex/let3.txt   |0.4                 |0.1                 |0.16000000000000003 \n",
      "3_fav_ex/let4.txt   |0.0                 |0.0                 |0                   \n",
      "3_fav_ex/news1.txt  |1.0                 |0.09523809523809523 |0.17391304347826084 \n",
      "3_fav_ex/post1.txt  |None                |0.0                 |None                \n",
      "3_fav_ex/post2.txt  |1.0                 |0.17391304347826086 |0.29629629629629634 \n"
     ]
    }
   ],
   "source": [
    "texts = [\n",
    "    load_text(_)\n",
    "    for _ in list_paths('3_fav_ex/*.txt')\n",
    "]\n",
    "\n",
    "all_true_inds = [\n",
    "    load_inds(path)\n",
    "    for path in list_paths('3_fav_ex/*sum.json')\n",
    "]\n",
    "\n",
    "print(*(str(x).ljust(20) for x in ('path', 'precision', 'recall', 'f1')), sep='|')\n",
    "for path in list_paths('3_fav_ex/*.txt'):\n",
    "    text = load_text(path)\n",
    "    sum_path = path.replace('.txt', '_sum.json')\n",
    "    true_inds = load_inds(sum_path)\n",
    "    spans = find_entities(text)\n",
    "    inds = spans_to_inds(text, spans)\n",
    "    pr = precision(true_inds, inds)\n",
    "    rec = recall(true_inds, inds)\n",
    "    f1_ = f1(true_inds, inds)\n",
    "    print(*(str(x).ljust(20) for x in (path, pr, rec, f1_)), sep='|')"
   ]
  },
  {
   "cell_type": "code",
   "execution_count": null,
   "metadata": {},
   "outputs": [],
   "source": []
  }
 ],
 "metadata": {
  "kernelspec": {
   "display_name": "Python 3",
   "language": "python",
   "name": "python3"
  },
  "language_info": {
   "codemirror_mode": {
    "name": "ipython",
    "version": 3
   },
   "file_extension": ".py",
   "mimetype": "text/x-python",
   "name": "python",
   "nbconvert_exporter": "python",
   "pygments_lexer": "ipython3",
   "version": "3.6.6"
  }
 },
 "nbformat": 4,
 "nbformat_minor": 2
}
