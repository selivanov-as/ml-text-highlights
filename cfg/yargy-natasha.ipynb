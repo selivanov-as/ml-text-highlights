{
 "cells": [
  {
   "cell_type": "code",
   "execution_count": 60,
   "metadata": {},
   "outputs": [],
   "source": [
    "from glob import iglob as list_paths\n",
    "\n",
    "\n",
    "def load_text(path):\n",
    "    with open(path, encoding='utf-8') as file:\n",
    "        return file.read()\n",
    "\n",
    "\n",
    "texts = [\n",
    "    load_text(_)\n",
    "    for _ in list_paths('3_fav_ex/*.txt')\n",
    "]"
   ]
  },
  {
   "cell_type": "code",
   "execution_count": 2,
   "metadata": {},
   "outputs": [],
   "source": [
    "from natasha import (\n",
    "    NamesExtractor,\n",
    "    SimpleNamesExtractor,\n",
    "    PersonExtractor,\n",
    "\n",
    "    LocationExtractor,\n",
    "    AddressExtractor,\n",
    "\n",
    "    OrganisationExtractor,\n",
    "\n",
    "    DatesExtractor,\n",
    "\n",
    "    MoneyExtractor,\n",
    "    MoneyRateExtractor,\n",
    "    MoneyRangeExtractor,\n",
    ")\n",
    "\n",
    "from natasha.markup import (\n",
    "    show_markup_notebook as show_markup,\n",
    "    format_json\n",
    ")"
   ]
  },
  {
   "cell_type": "code",
   "execution_count": 49,
   "metadata": {},
   "outputs": [],
   "source": [
    "from yargy.token import Span\n",
    "\n",
    "def unite_spans(spans):\n",
    "    if not spans:\n",
    "        return spans\n",
    "    spans = sorted(spans, key=lambda x: (x.start, x.stop))\n",
    "    new_spans = []\n",
    "    beg, end = spans[0].start, spans[0].stop\n",
    "#     prev = spans[0]\n",
    "    for span in spans[1:]:\n",
    "        if span.start < end < span.stop:\n",
    "            end = span.stop\n",
    "        elif span.stop <= end:\n",
    "            continue\n",
    "        else:\n",
    "            new_spans.append(Span(beg, end))\n",
    "            beg, end = span.start, span.stop\n",
    "    new_spans.append(Span(beg, end))\n",
    "    return new_spans"
   ]
  },
  {
   "cell_type": "code",
   "execution_count": 67,
   "metadata": {},
   "outputs": [
    {
     "data": {
      "text/html": [
       "<style>\n",
       "\n",
       ".markup {\n",
       "    white-space: pre-wrap;\n",
       "}\n",
       "\n",
       ".markup > mark {\n",
       "    padding: 0.15em;\n",
       "    border-radius: 0.25em;\n",
       "    border: 1px solid #fdf07c;\n",
       "    background: #ffffc2;\n",
       "}\n",
       "    </style><div class=\"markup tex2jax_ignore\">Уважаемый Максим Сергеевич <mark>Рассказов</mark>!\n",
       "\n",
       "Приглашаем Вас посмотреть в кругу друзей и знакомых новый, научно-популярный фильм под названием «Изобретение штанов!».\n",
       "Изобретение штанов?\n",
       "\n",
       "Мы совсем не задумываемся о том, что мы надеваем каждый день: и стар, и млад, и мужчины, и женщины носят – штаны. Но кто изобрел их? Когда и почему? Международная команда попыталась ответить на эти вопросы. В создании этого фильма приняли участие и археологи, и дизайнеры, и ученые. На примере анимации просто объясняются сложные научные процессы, например, методы определения возраста шерсти или реконструкции окружения давно забытых времен. Специально написанная музыка сопровождает исследователей на протяжении всего фильма.\n",
       "Кто додумывается до такого!?\n",
       "\n",
       "Эта впечатляющая кинолента будет показана в рамках 50-летнего юбилея сотрудничества Freie Universität Berlin и <mark>СПбГУ</mark>. Сначала приветственные слова, презентация брошюры 50 Years of Cooperation …\n",
       "Я – про фильм!\n",
       "\n",
       "Содержание фильма – результат германо-китайско-российского исследования, проведенного под руководством ученых из Freie Universität Berlin, а реализация – работа студентов-кинематографов.\n",
       "Когда?\n",
       "\n",
       "Понедельник, 19-го <mark>ноября 2018</mark>, сбор гостей в 18:30 ч. в <mark>Лендоке</mark> по адресу <mark>наб. Крюкова канала, д. 12</mark>, Санкт-<mark>Петербург</mark>.\n",
       "Сколько стоит?\n",
       "\n",
       "Просмотр фильма бесплатный.\n",
       "Что надо сделать?\n",
       "\n",
       "Требуется лишь регистрация по ссылке https://goo.gl/forms/XIn08PEiPR3hPb7C3\n",
       "\n",
       "Дополнительная информация: https://www.fu-berlin.de/ru/sites/moscow/50-years-spsu/\n",
       "\n",
       "\n",
       "С уважением,\n",
       "\n",
       " \n",
       "Тобиас Стюдеманн</div>"
      ],
      "text/plain": [
       "<IPython.core.display.HTML object>"
      ]
     },
     "metadata": {},
     "output_type": "display_data"
    },
    {
     "name": "stdout",
     "output_type": "stream",
     "text": [
      "\n",
      "\n",
      "\n",
      "\n"
     ]
    },
    {
     "data": {
      "text/html": [
       "<style>\n",
       "\n",
       ".markup {\n",
       "    white-space: pre-wrap;\n",
       "}\n",
       "\n",
       ".markup > mark {\n",
       "    padding: 0.15em;\n",
       "    border-radius: 0.25em;\n",
       "    border: 1px solid #fdf07c;\n",
       "    background: #ffffc2;\n",
       "}\n",
       "    </style><div class=\"markup tex2jax_ignore\">Добрый день,\n",
       "\n",
       "Ссылка на GooglDrive, <mark>куда</mark> будут выкладываться материалы по курсу \"Базы данных\" -  https://goo.gl/CZBPgV (регистр букв важен).\n",
       "В папке HomeTasks домашние задания.\n",
       "\n",
       "С уважением, <mark>Алексей</mark>\n",
       "\n",
       "-- \n",
       "Вы получили это сообщение, поскольку подписаны на <mark>группу \"АнализВШЭ2017\"</mark>.\n",
       "Чтобы отменить подписку на <mark>эту группу</mark> и больше не получать от <mark>нее</mark> сообщения, отправьте письмо на электронный адрес mbd171+unsubscribe@googlegroups.com.\n",
       "Чтобы отправлять сообщения в <mark>эту группу</mark>, отправьте письмо на электронный адрес mbd171@googlegroups.com.\n",
       "Чтобы посмотреть обсуждение на веб-странице, перейдите по ссылке https://groups.google.com/d/msgid/mbd171/CADjhq0B6XajZceQob-phCue8qPw0e%2B2K6YFr4uoOGx%2Bkzx8t0w%40mail.gmail.com.\n",
       "Чтобы настроить другие параметры, перейдите по ссылке https://groups.google.com/d/optout.\n",
       "</div>"
      ],
      "text/plain": [
       "<IPython.core.display.HTML object>"
      ]
     },
     "metadata": {},
     "output_type": "display_data"
    },
    {
     "name": "stdout",
     "output_type": "stream",
     "text": [
      "\n",
      "\n",
      "\n",
      "\n"
     ]
    },
    {
     "data": {
      "text/html": [
       "<style>\n",
       "\n",
       ".markup {\n",
       "    white-space: pre-wrap;\n",
       "}\n",
       "\n",
       ".markup > mark {\n",
       "    padding: 0.15em;\n",
       "    border-radius: 0.25em;\n",
       "    border: 1px solid #fdf07c;\n",
       "    background: #ffffc2;\n",
       "}\n",
       "    </style><div class=\"markup tex2jax_ignore\">Уважаемые студенты!\n",
       "\n",
       "До <mark>1 декабря</mark> вам необходимо заполнить заявление (бланк в приложенном файле) на утверждение темы вашей выпускной квалификационной работы (ВКР) и:\n",
       "\n",
       "- в электронном виде выслать в ответном письме\n",
       "\n",
       "- в бумажном варианте со всеми необходимыми подписями принести  мне в каб. 331.\n",
       "\n",
       "Если у кого-то возникнут трудности с печатью заявления, подходите в учебный офис, я вам распечатаю.\n",
       "\n",
       "Подробнее о государственной итоговой аттестации можно почитать на странице вашей образовательной программы по ссылке: https://spb.hse.ru/ma/analysis/gia\n",
       "\n",
       "\n",
       "С уважением,\n",
       "\n",
       "<mark>Колобова Ольга Николаевна</mark>\n",
       "\n",
       "начальник ОСУП в магистратуре\n",
       "\n",
       "по направлению «Прикладная математика и информатика»\n",
       "\n",
       "факультета <mark>Санкт-Петербургская школа</mark>\n",
       "\n",
       "физико-математических и компьютерных наук\n",
       "\n",
       "тел. (812) <mark>644-59</mark>-11  доб. 61597, каб. 331\n",
       "\n",
       "okolobova@hse.ru</div>"
      ],
      "text/plain": [
       "<IPython.core.display.HTML object>"
      ]
     },
     "metadata": {},
     "output_type": "display_data"
    },
    {
     "name": "stdout",
     "output_type": "stream",
     "text": [
      "\n",
      "\n",
      "\n",
      "\n"
     ]
    },
    {
     "data": {
      "text/html": [
       "<style>\n",
       "\n",
       ".markup {\n",
       "    white-space: pre-wrap;\n",
       "}\n",
       "\n",
       ".markup > mark {\n",
       "    padding: 0.15em;\n",
       "    border-radius: 0.25em;\n",
       "    border: 1px solid #fdf07c;\n",
       "    background: #ffffc2;\n",
       "}\n",
       "    </style><div class=\"markup tex2jax_ignore\">Всем привет!\n",
       "\n",
       "Ребята, важная новость. К сожалению, в течение недели в Таймс будет недоступно студенческое кафе. Завтра утром в студенческой комнате (№203) появятся микроволновка и кулер с горячей/холодной водой, так что перекусить можно будет прямо там.   \n",
       "\n",
       "Извините за временные неудобства. \n",
       "\n",
       "<mark>Катя Артамонова</mark> \n",
       "CS центр\n",
       "\n",
       "-- \n",
       "Вы получили это сообщение, поскольку подписаны на <mark>группу \"Computer Science Center 2017\"</mark>.\n",
       "Чтобы отменить подписку на <mark>эту группу</mark> и больше не получать от <mark>нее</mark> сообщения, отправьте письмо на электронный адрес compscicenter2017+unsubscribe@googlegroups.com.\n",
       "Чтобы посмотреть обсуждение на веб-странице, перейдите по ссылке https://groups.google.com/d/msgid/compscicenter2017/c586d<mark>269-5</mark>f<mark>68-4</mark>b4f-b058-a398a45855b6%40Spark.\n",
       "Чтобы настроить другие параметры, перейдите по ссылке https://groups.google.com/d/optout.\n",
       "</div>"
      ],
      "text/plain": [
       "<IPython.core.display.HTML object>"
      ]
     },
     "metadata": {},
     "output_type": "display_data"
    },
    {
     "name": "stdout",
     "output_type": "stream",
     "text": [
      "\n",
      "\n",
      "\n",
      "\n"
     ]
    },
    {
     "data": {
      "text/html": [
       "<style>\n",
       "\n",
       ".markup {\n",
       "    white-space: pre-wrap;\n",
       "}\n",
       "\n",
       ".markup > mark {\n",
       "    padding: 0.15em;\n",
       "    border-radius: 0.25em;\n",
       "    border: 1px solid #fdf07c;\n",
       "    background: #ffffc2;\n",
       "}\n",
       "    </style><div class=\"markup tex2jax_ignore\">Нападающий сборной <mark>Египта</mark> и «<mark>Ливерпуля</mark>» <mark>Мохаммед Салах</mark> в твиттере извинился перед своей поклонницей, которая пришла на стадион с баннером: «Салах, пожалуйста, забей гол. Мне надо домой делать домашнее задание». В матче со сборной <mark>Туниса</mark> Салах отличился только на 90-й минуте; благодаря его голу <mark>Египет</mark> выиграл со счетом 3:2.\n",
       "\n",
       "«Я старался, чтобы ты ушла домой пораньше, и мне жаль, что я продержал тебя на стадионе до последней минуты. Надеюсь, учитель поймет ситуацию», — написал Салах.\n",
       "</div>"
      ],
      "text/plain": [
       "<IPython.core.display.HTML object>"
      ]
     },
     "metadata": {},
     "output_type": "display_data"
    },
    {
     "name": "stdout",
     "output_type": "stream",
     "text": [
      "\n",
      "\n",
      "\n",
      "\n"
     ]
    },
    {
     "data": {
      "text/html": [
       "<style>\n",
       "\n",
       ".markup {\n",
       "    white-space: pre-wrap;\n",
       "}\n",
       "\n",
       ".markup > mark {\n",
       "    padding: 0.15em;\n",
       "    border-radius: 0.25em;\n",
       "    border: 1px solid #fdf07c;\n",
       "    background: #ffffc2;\n",
       "}\n",
       "    </style><div class=\"markup tex2jax_ignore\">Очковые пингвины размножаются в колониях. Чтобы заставить их основать новую колонию в заповеднике Стони-Пойнт (ЮАР), ученые подсовывают привезенным туда пингвинам бетонные копии в разных намекающих позах. Живые пингвины должны подумать, что на острове уже есть другие особи, и задуматься о продолжении рода. Но этот пингвин всем своим поведением говорит, что он никому ничего не должен.\n",
       "\n",
       "</div>"
      ],
      "text/plain": [
       "<IPython.core.display.HTML object>"
      ]
     },
     "metadata": {},
     "output_type": "display_data"
    },
    {
     "name": "stdout",
     "output_type": "stream",
     "text": [
      "\n",
      "\n",
      "\n",
      "\n"
     ]
    },
    {
     "data": {
      "text/html": [
       "<style>\n",
       "\n",
       ".markup {\n",
       "    white-space: pre-wrap;\n",
       "}\n",
       "\n",
       ".markup > mark {\n",
       "    padding: 0.15em;\n",
       "    border-radius: 0.25em;\n",
       "    border: 1px solid #fdf07c;\n",
       "    background: #ffffc2;\n",
       "}\n",
       "    </style><div class=\"markup tex2jax_ignore\">Международный фестиваль о науке и технологиях Политех360 в восьмой раз пройдет в <mark>Москве</mark> с <mark>22 ноября</mark> по <mark>2 декабря</mark>.\n",
       "В этом году основная кинопрограмма фестиваля собрала самые громкие документальные фильмы сезона на тему “Технооптимизм / Технопессимизм”.\n",
       "В ней есть роботы-убийцы и филиппинские модераторы, которые стали полицейскими виртуального мира. В ней есть члены клуба плоской Земли и пилоты самолета на солнечных батареях. В ней есть компания, которая опередила будущее, и компания, которая застряла в прошлом. А еще в ней есть человеческие истории: будущее определяют отвага и сомнения, подвиги и трагедии людей, а не футурологические прогнозы.\n",
       "Сокураторы кинопрограммы и программы дискуссий — наши давние партнеры Beat Film Festival .\n",
       "Купить билеты на первые шесть фильмов и узнать детали можно на нашем сайте – http://360.polytech.one\n",
       "Генеральный партнер <mark>фестиваля — российская компания</mark> ТМХ , один из крупнейших в мире производителей техники для рельсового транспорта.\n",
       "</div>"
      ],
      "text/plain": [
       "<IPython.core.display.HTML object>"
      ]
     },
     "metadata": {},
     "output_type": "display_data"
    },
    {
     "name": "stdout",
     "output_type": "stream",
     "text": [
      "\n",
      "\n",
      "\n",
      "\n"
     ]
    }
   ],
   "source": [
    "def find_entities(text):\n",
    "    all_spans = []\n",
    "    for extr_cls in (\n",
    "        NamesExtractor,\n",
    "#         SimpleNamesExtractor,\n",
    "#         PersonExtractor,\n",
    "        LocationExtractor,\n",
    "        AddressExtractor,\n",
    "        OrganisationExtractor,\n",
    "        DatesExtractor,\n",
    "        MoneyExtractor,\n",
    "        MoneyRateExtractor,\n",
    "        MoneyRangeExtractor,\n",
    "    ):\n",
    "        extractor = extr_cls()\n",
    "        matches = extractor(text)\n",
    "        spans = [_.span for _ in matches]\n",
    "        all_spans.extend(spans)\n",
    "    return unite_spans(all_spans)\n",
    "\n",
    "\n",
    "for text in texts:\n",
    "    all_spans = find_entities(text)\n",
    "    show_markup(text, all_spans)\n",
    "    print('\\n\\n\\n')"
   ]
  },
  {
   "cell_type": "code",
   "execution_count": 68,
   "metadata": {},
   "outputs": [
    {
     "data": {
      "text/html": [
       "<style>\n",
       "\n",
       ".markup {\n",
       "    white-space: pre-wrap;\n",
       "}\n",
       "\n",
       ".markup > mark {\n",
       "    padding: 0.15em;\n",
       "    border-radius: 0.25em;\n",
       "    border: 1px solid #fdf07c;\n",
       "    background: #ffffc2;\n",
       "}\n",
       "    </style><div class=\"markup tex2jax_ignore\">Уважаемый Максим Сергеевич Рассказов!\n",
       "\n",
       "Приглашаем Вас посмотреть в кругу друзей и знакомых новый, научно-популярный фильм под названием «Изобретение штанов!».\n",
       "Изобретение штанов?\n",
       "\n",
       "Мы совсем не задумываемся о том, что мы надеваем каждый день: и стар, и млад, и мужчины, и женщины носят – штаны. Но кто изобрел их? Когда и почему? Международная команда попыталась ответить на эти вопросы. В создании этого фильма приняли участие и археологи, и дизайнеры, и ученые. На примере анимации просто объясняются сложные научные процессы, например, методы определения возраста шерсти или реконструкции окружения давно забытых времен. Специально написанная музыка сопровождает исследователей на протяжении всего фильма.\n",
       "Кто додумывается до такого!?\n",
       "\n",
       "Эта впечатляющая кинолента будет показана в рамках 50-летнего юбилея сотрудничества Freie Universität Berlin и СПбГУ. Сначала приветственные слова, презентация брошюры 50 Years of Cooperation …\n",
       "Я – про фильм!\n",
       "\n",
       "Содержание фильма – результат германо-китайско-российского исследования, проведенного под руководством ученых из Freie Universität Berlin, а реализация – работа студентов-кинематографов.\n",
       "Когда?\n",
       "\n",
       "Понедельник, 19-го <mark>ноября 2018</mark>, сбор гостей в 18:30 ч. в Лендоке по адресу <mark>наб. Крюкова канала, д. 12</mark>, Санкт-Петербург.\n",
       "Сколько стоит?\n",
       "\n",
       "Просмотр фильма бесплатный.\n",
       "Что надо сделать?\n",
       "\n",
       "Требуется лишь регистрация по ссылке https://goo.gl/forms/XIn08PEiPR3hPb7C3\n",
       "\n",
       "Дополнительная информация: https://www.fu-berlin.de/ru/sites/moscow/50-years-spsu/\n",
       "\n",
       "\n",
       "С уважением,\n",
       "\n",
       " \n",
       "Тобиас Стюдеманн</div>"
      ],
      "text/plain": [
       "<IPython.core.display.HTML object>"
      ]
     },
     "metadata": {},
     "output_type": "display_data"
    },
    {
     "name": "stdout",
     "output_type": "stream",
     "text": [
      "\n",
      "\n",
      "\n",
      "\n"
     ]
    },
    {
     "data": {
      "text/html": [
       "<style>\n",
       "\n",
       ".markup {\n",
       "    white-space: pre-wrap;\n",
       "}\n",
       "\n",
       ".markup > mark {\n",
       "    padding: 0.15em;\n",
       "    border-radius: 0.25em;\n",
       "    border: 1px solid #fdf07c;\n",
       "    background: #ffffc2;\n",
       "}\n",
       "    </style><div class=\"markup tex2jax_ignore\">Добрый день,\n",
       "\n",
       "Ссылка на GooglDrive, куда будут выкладываться материалы по курсу \"Базы данных\" -  https://goo.gl/CZBPgV (регистр букв важен).\n",
       "В папке HomeTasks домашние задания.\n",
       "\n",
       "С уважением, <mark>Алексей</mark>\n",
       "\n",
       "-- \n",
       "Вы получили это сообщение, поскольку подписаны на группу \"АнализВШЭ2017\".\n",
       "Чтобы отменить подписку на эту группу и больше не получать от нее сообщения, отправьте письмо на электронный адрес mbd171+unsubscribe@googlegroups.com.\n",
       "Чтобы отправлять сообщения в эту группу, отправьте письмо на электронный адрес mbd171@googlegroups.com.\n",
       "Чтобы посмотреть обсуждение на веб-странице, перейдите по ссылке https://groups.google.com/d/msgid/mbd171/CADjhq0B6XajZceQob-phCue8qPw0e%2B2K6YFr4uoOGx%2Bkzx8t0w%40mail.gmail.com.\n",
       "Чтобы настроить другие параметры, перейдите по ссылке https://groups.google.com/d/optout.\n",
       "</div>"
      ],
      "text/plain": [
       "<IPython.core.display.HTML object>"
      ]
     },
     "metadata": {},
     "output_type": "display_data"
    },
    {
     "name": "stdout",
     "output_type": "stream",
     "text": [
      "\n",
      "\n",
      "\n",
      "\n"
     ]
    },
    {
     "data": {
      "text/html": [
       "<style>\n",
       "\n",
       ".markup {\n",
       "    white-space: pre-wrap;\n",
       "}\n",
       "\n",
       ".markup > mark {\n",
       "    padding: 0.15em;\n",
       "    border-radius: 0.25em;\n",
       "    border: 1px solid #fdf07c;\n",
       "    background: #ffffc2;\n",
       "}\n",
       "    </style><div class=\"markup tex2jax_ignore\">Уважаемые студенты!\n",
       "\n",
       "До <mark>1 декабря</mark> вам необходимо заполнить заявление (бланк в приложенном файле) на утверждение темы вашей выпускной квалификационной работы (ВКР) и:\n",
       "\n",
       "- в электронном виде выслать в ответном письме\n",
       "\n",
       "- в бумажном варианте со всеми необходимыми подписями принести  мне в каб. 331.\n",
       "\n",
       "Если у кого-то возникнут трудности с печатью заявления, подходите в учебный офис, я вам распечатаю.\n",
       "\n",
       "Подробнее о государственной итоговой аттестации можно почитать на странице вашей образовательной программы по ссылке: https://spb.hse.ru/ma/analysis/gia\n",
       "\n",
       "\n",
       "С уважением,\n",
       "\n",
       "<mark>Колобова Ольга Николаевна</mark>\n",
       "\n",
       "начальник ОСУП в магистратуре\n",
       "\n",
       "по направлению «Прикладная математика и информатика»\n",
       "\n",
       "факультета Санкт-Петербургская школа\n",
       "\n",
       "физико-математических и компьютерных наук\n",
       "\n",
       "тел. (812) 644-59-11  доб. 61597, каб. 331\n",
       "\n",
       "okolobova@hse.ru</div>"
      ],
      "text/plain": [
       "<IPython.core.display.HTML object>"
      ]
     },
     "metadata": {},
     "output_type": "display_data"
    },
    {
     "name": "stdout",
     "output_type": "stream",
     "text": [
      "\n",
      "\n",
      "\n",
      "\n"
     ]
    },
    {
     "data": {
      "text/html": [
       "<style>\n",
       "\n",
       ".markup {\n",
       "    white-space: pre-wrap;\n",
       "}\n",
       "\n",
       ".markup > mark {\n",
       "    padding: 0.15em;\n",
       "    border-radius: 0.25em;\n",
       "    border: 1px solid #fdf07c;\n",
       "    background: #ffffc2;\n",
       "}\n",
       "    </style><div class=\"markup tex2jax_ignore\">Всем привет!\n",
       "\n",
       "Ребята, важная новость. К сожалению, в течение недели в Таймс будет недоступно студенческое кафе. Завтра утром в студенческой комнате (№203) появятся микроволновка и кулер с горячей/холодной водой, так что перекусить можно будет прямо там.   \n",
       "\n",
       "Извините за временные неудобства. \n",
       "\n",
       "<mark>Катя Артамонова</mark> \n",
       "CS центр\n",
       "\n",
       "-- \n",
       "Вы получили это сообщение, поскольку подписаны на группу \"Computer Science Center 2017\".\n",
       "Чтобы отменить подписку на эту группу и больше не получать от нее сообщения, отправьте письмо на электронный адрес compscicenter2017+unsubscribe@googlegroups.com.\n",
       "Чтобы посмотреть обсуждение на веб-странице, перейдите по ссылке https://groups.google.com/d/msgid/compscicenter2017/c586d269-5f68-4b4f-b058-a398a45855b6%40Spark.\n",
       "Чтобы настроить другие параметры, перейдите по ссылке https://groups.google.com/d/optout.\n",
       "</div>"
      ],
      "text/plain": [
       "<IPython.core.display.HTML object>"
      ]
     },
     "metadata": {},
     "output_type": "display_data"
    },
    {
     "name": "stdout",
     "output_type": "stream",
     "text": [
      "\n",
      "\n",
      "\n",
      "\n"
     ]
    },
    {
     "data": {
      "text/html": [
       "<style>\n",
       "\n",
       ".markup {\n",
       "    white-space: pre-wrap;\n",
       "}\n",
       "\n",
       ".markup > mark {\n",
       "    padding: 0.15em;\n",
       "    border-radius: 0.25em;\n",
       "    border: 1px solid #fdf07c;\n",
       "    background: #ffffc2;\n",
       "}\n",
       "    </style><div class=\"markup tex2jax_ignore\">Нападающий сборной Египта и «Ливерпуля» <mark>Мохаммед Салах</mark> в твиттере извинился перед своей поклонницей, которая пришла на стадион с баннером: «Салах, пожалуйста, забей гол. Мне надо домой делать домашнее задание». В матче со сборной Туниса Салах отличился только на 90-й минуте; благодаря его голу Египет выиграл со счетом 3:2.\n",
       "\n",
       "«Я старался, чтобы ты ушла домой пораньше, и мне жаль, что я продержал тебя на стадионе до последней минуты. Надеюсь, учитель поймет ситуацию», — написал Салах.\n",
       "</div>"
      ],
      "text/plain": [
       "<IPython.core.display.HTML object>"
      ]
     },
     "metadata": {},
     "output_type": "display_data"
    },
    {
     "name": "stdout",
     "output_type": "stream",
     "text": [
      "\n",
      "\n",
      "\n",
      "\n"
     ]
    },
    {
     "data": {
      "text/html": [
       "<style>\n",
       "\n",
       ".markup {\n",
       "    white-space: pre-wrap;\n",
       "}\n",
       "\n",
       ".markup > mark {\n",
       "    padding: 0.15em;\n",
       "    border-radius: 0.25em;\n",
       "    border: 1px solid #fdf07c;\n",
       "    background: #ffffc2;\n",
       "}\n",
       "    </style><div class=\"markup tex2jax_ignore\">Очковые пингвины размножаются в колониях. Чтобы заставить их основать новую колонию в заповеднике Стони-Пойнт (ЮАР), ученые подсовывают привезенным туда пингвинам бетонные копии в разных намекающих позах. Живые пингвины должны подумать, что на острове уже есть другие особи, и задуматься о продолжении рода. Но этот пингвин всем своим поведением говорит, что он никому ничего не должен.\n",
       "\n",
       "</div>"
      ],
      "text/plain": [
       "<IPython.core.display.HTML object>"
      ]
     },
     "metadata": {},
     "output_type": "display_data"
    },
    {
     "name": "stdout",
     "output_type": "stream",
     "text": [
      "\n",
      "\n",
      "\n",
      "\n"
     ]
    },
    {
     "data": {
      "text/html": [
       "<style>\n",
       "\n",
       ".markup {\n",
       "    white-space: pre-wrap;\n",
       "}\n",
       "\n",
       ".markup > mark {\n",
       "    padding: 0.15em;\n",
       "    border-radius: 0.25em;\n",
       "    border: 1px solid #fdf07c;\n",
       "    background: #ffffc2;\n",
       "}\n",
       "    </style><div class=\"markup tex2jax_ignore\">Международный фестиваль о науке и технологиях Политех360 в восьмой раз пройдет в Москве с <mark>22 ноября</mark> по <mark>2 декабря</mark>.\n",
       "В этом году основная кинопрограмма фестиваля собрала самые громкие документальные фильмы сезона на тему “Технооптимизм / Технопессимизм”.\n",
       "В ней есть роботы-убийцы и филиппинские модераторы, которые стали полицейскими виртуального мира. В ней есть члены клуба плоской Земли и пилоты самолета на солнечных батареях. В ней есть компания, которая опередила будущее, и компания, которая застряла в прошлом. А еще в ней есть человеческие истории: будущее определяют отвага и сомнения, подвиги и трагедии людей, а не футурологические прогнозы.\n",
       "Сокураторы кинопрограммы и программы дискуссий — наши давние партнеры Beat Film Festival .\n",
       "Купить билеты на первые шесть фильмов и узнать детали можно на нашем сайте – http://360.polytech.one\n",
       "Генеральный партнер фестиваля — российская компания ТМХ , один из крупнейших в мире производителей техники для рельсового транспорта.\n",
       "</div>"
      ],
      "text/plain": [
       "<IPython.core.display.HTML object>"
      ]
     },
     "metadata": {},
     "output_type": "display_data"
    },
    {
     "name": "stdout",
     "output_type": "stream",
     "text": [
      "\n",
      "\n",
      "\n",
      "\n"
     ]
    }
   ],
   "source": [
    "def find_entities(text):\n",
    "    all_spans = []\n",
    "    for extr_cls in (\n",
    "        NamesExtractor,\n",
    "#         SimpleNamesExtractor,\n",
    "#         PersonExtractor,\n",
    "#         LocationExtractor,\n",
    "        AddressExtractor,\n",
    "#         OrganisationExtractor,\n",
    "        DatesExtractor,\n",
    "#         MoneyExtractor,\n",
    "#         MoneyRateExtractor,\n",
    "#         MoneyRangeExtractor,\n",
    "    ):\n",
    "        extractor = extr_cls()\n",
    "        matches = extractor(text)\n",
    "        spans = [_.span for _ in matches]\n",
    "        all_spans.extend(spans)\n",
    "    return unite_spans(all_spans)\n",
    "\n",
    "\n",
    "for text in texts:\n",
    "    all_spans = find_entities(text)\n",
    "    show_markup(text, all_spans)\n",
    "    print('\\n\\n\\n')"
   ]
  },
  {
   "cell_type": "code",
   "execution_count": 69,
   "metadata": {},
   "outputs": [
    {
     "data": {
      "text/html": [
       "<style>\n",
       "\n",
       ".markup {\n",
       "    white-space: pre-wrap;\n",
       "}\n",
       "\n",
       ".markup > mark {\n",
       "    padding: 0.15em;\n",
       "    border-radius: 0.25em;\n",
       "    border: 1px solid #fdf07c;\n",
       "    background: #ffffc2;\n",
       "}\n",
       "    </style><div class=\"markup tex2jax_ignore\">Здравствуйте, Алексей Сергеевич</div>"
      ],
      "text/plain": [
       "<IPython.core.display.HTML object>"
      ]
     },
     "metadata": {},
     "output_type": "display_data"
    },
    {
     "data": {
      "text/html": [
       "<style>\n",
       "\n",
       ".markup {\n",
       "    white-space: pre-wrap;\n",
       "}\n",
       "\n",
       ".markup > mark {\n",
       "    padding: 0.15em;\n",
       "    border-radius: 0.25em;\n",
       "    border: 1px solid #fdf07c;\n",
       "    background: #ffffc2;\n",
       "}\n",
       "    </style><div class=\"markup tex2jax_ignore\">Здравствуйте, <mark>Алексей Сергеевич</mark>!</div>"
      ],
      "text/plain": [
       "<IPython.core.display.HTML object>"
      ]
     },
     "metadata": {},
     "output_type": "display_data"
    },
    {
     "data": {
      "text/html": [
       "<style>\n",
       "\n",
       ".markup {\n",
       "    white-space: pre-wrap;\n",
       "}\n",
       "\n",
       ".markup > mark {\n",
       "    padding: 0.15em;\n",
       "    border-radius: 0.25em;\n",
       "    border: 1px solid #fdf07c;\n",
       "    background: #ffffc2;\n",
       "}\n",
       "    </style><div class=\"markup tex2jax_ignore\">Здравствуйте, Максим Сергеевич!</div>"
      ],
      "text/plain": [
       "<IPython.core.display.HTML object>"
      ]
     },
     "metadata": {},
     "output_type": "display_data"
    },
    {
     "data": {
      "text/html": [
       "<style>\n",
       "\n",
       ".markup {\n",
       "    white-space: pre-wrap;\n",
       "}\n",
       "\n",
       ".markup > mark {\n",
       "    padding: 0.15em;\n",
       "    border-radius: 0.25em;\n",
       "    border: 1px solid #fdf07c;\n",
       "    background: #ffffc2;\n",
       "}\n",
       "    </style><div class=\"markup tex2jax_ignore\">Санкт-Петербург</div>"
      ],
      "text/plain": [
       "<IPython.core.display.HTML object>"
      ]
     },
     "metadata": {},
     "output_type": "display_data"
    },
    {
     "data": {
      "text/html": [
       "<style>\n",
       "\n",
       ".markup {\n",
       "    white-space: pre-wrap;\n",
       "}\n",
       "\n",
       ".markup > mark {\n",
       "    padding: 0.15em;\n",
       "    border-radius: 0.25em;\n",
       "    border: 1px solid #fdf07c;\n",
       "    background: #ffffc2;\n",
       "}\n",
       "    </style><div class=\"markup tex2jax_ignore\"><mark>наб. Крюкова канала, д. 12</mark>, Санкт-Петербург.</div>"
      ],
      "text/plain": [
       "<IPython.core.display.HTML object>"
      ]
     },
     "metadata": {},
     "output_type": "display_data"
    },
    {
     "data": {
      "text/html": [
       "<style>\n",
       "\n",
       ".markup {\n",
       "    white-space: pre-wrap;\n",
       "}\n",
       "\n",
       ".markup > mark {\n",
       "    padding: 0.15em;\n",
       "    border-radius: 0.25em;\n",
       "    border: 1px solid #fdf07c;\n",
       "    background: #ffffc2;\n",
       "}\n",
       "    </style><div class=\"markup tex2jax_ignore\"><mark>Санкт-Петербург, наб. Крюкова канала, д. 12</mark></div>"
      ],
      "text/plain": [
       "<IPython.core.display.HTML object>"
      ]
     },
     "metadata": {},
     "output_type": "display_data"
    }
   ],
   "source": [
    "texts = ['Здравствуйте, Алексей Сергеевич',\n",
    "         'Здравствуйте, Алексей Сергеевич!',\n",
    "         'Здравствуйте, Максим Сергеевич!',\n",
    "         'Санкт-Петербург',\n",
    "        'наб. Крюкова канала, д. 12, Санкт-Петербург.',\n",
    "        'Санкт-Петербург, наб. Крюкова канала, д. 12']\n",
    "\n",
    "for text in texts:\n",
    "    all_spans = find_entities(text)\n",
    "    show_markup(text, all_spans)"
   ]
  },
  {
   "cell_type": "code",
   "execution_count": 52,
   "metadata": {},
   "outputs": [
    {
     "data": {
      "text/html": [
       "<style>\n",
       "\n",
       ".markup {\n",
       "    white-space: pre-wrap;\n",
       "}\n",
       "\n",
       ".markup > mark {\n",
       "    padding: 0.15em;\n",
       "    border-radius: 0.25em;\n",
       "    border: 1px solid #fdf07c;\n",
       "    background: #ffffc2;\n",
       "}\n",
       "    </style><div class=\"markup tex2jax_ignore\"></div>"
      ],
      "text/plain": [
       "<IPython.core.display.HTML object>"
      ]
     },
     "metadata": {},
     "output_type": "display_data"
    },
    {
     "data": {
      "text/html": [
       "<style>\n",
       "\n",
       ".markup {\n",
       "    white-space: pre-wrap;\n",
       "}\n",
       "\n",
       ".markup > mark {\n",
       "    padding: 0.15em;\n",
       "    border-radius: 0.25em;\n",
       "    border: 1px solid #fdf07c;\n",
       "    background: #ffffc2;\n",
       "}\n",
       "    </style><div class=\"markup tex2jax_ignore\">Так говорила в <mark>июле 1805 года</mark> известная <mark>Анна Павловна Шерер</mark>, фрейлина и приближенная императрицы <mark>Марии Феодоровны</mark>, встречая важного и чиновного князя <mark>Василия</mark>, первого приехавшего на ее вечер. <mark>Анна Павловна</mark> кашляла несколько дней, у <mark>нее</mark> был грипп, как она говорила (грипп был тогда новое слово, употреблявшееся только редкими).</div>"
      ],
      "text/plain": [
       "<IPython.core.display.HTML object>"
      ]
     },
     "metadata": {},
     "output_type": "display_data"
    },
    {
     "data": {
      "text/html": [
       "<style>\n",
       "\n",
       ".markup {\n",
       "    white-space: pre-wrap;\n",
       "}\n",
       "\n",
       ".markup > mark {\n",
       "    padding: 0.15em;\n",
       "    border-radius: 0.25em;\n",
       "    border: 1px solid #fdf07c;\n",
       "    background: #ffffc2;\n",
       "}\n",
       "    </style><div class=\"markup tex2jax_ignore\">Предлагаю вернуть прежние границы природного парка №71 на <mark>Инженерной улице 2</mark>. По адресу <mark>Алтуфьевское шоссе д.51</mark> (основной вид разрешенного использования: производственная деятельность, склады) размещен МПЗ. Жители требуют незамедлительной остановки МПЗ и его вывода из района</div>"
      ],
      "text/plain": [
       "<IPython.core.display.HTML object>"
      ]
     },
     "metadata": {},
     "output_type": "display_data"
    },
    {
     "data": {
      "text/html": [
       "<style>\n",
       "\n",
       ".markup {\n",
       "    white-space: pre-wrap;\n",
       "}\n",
       "\n",
       ".markup > mark {\n",
       "    padding: 0.15em;\n",
       "    border-radius: 0.25em;\n",
       "    border: 1px solid #fdf07c;\n",
       "    background: #ffffc2;\n",
       "}\n",
       "    </style><div class=\"markup tex2jax_ignore\">Контакты О нас телефон 7 881 574-10-02 Адрес <mark>Республика Карелия,г.Петрозаводск,ул.Маршала Мерецкова, д.8 Б,офис 4</mark> </div>"
      ],
      "text/plain": [
       "<IPython.core.display.HTML object>"
      ]
     },
     "metadata": {},
     "output_type": "display_data"
    },
    {
     "data": {
      "text/html": [
       "<style>\n",
       "\n",
       ".markup {\n",
       "    white-space: pre-wrap;\n",
       "}\n",
       "\n",
       ".markup > mark {\n",
       "    padding: 0.15em;\n",
       "    border-radius: 0.25em;\n",
       "    border: 1px solid #fdf07c;\n",
       "    background: #ffffc2;\n",
       "}\n",
       "    </style><div class=\"markup tex2jax_ignore\">Благодарственное письмо Хочу поблагодарить учителей моего, теперь уже бывшего, одиннадцатиклассника: <mark>Бушуева Вячеслава Владимировича</mark> и <mark>Бушуеву Веру Константиновну</mark>. Они вовлекали сына в интересные внеурочные занятия, связанные с театром и походами.</div>"
      ],
      "text/plain": [
       "<IPython.core.display.HTML object>"
      ]
     },
     "metadata": {},
     "output_type": "display_data"
    }
   ],
   "source": [
    "texts = '''\n",
    "Так говорила в июле 1805 года известная Анна Павловна Шерер, фрейлина и приближенная императрицы Марии Феодоровны, встречая важного и чиновного князя Василия, первого приехавшего на ее вечер. Анна Павловна кашляла несколько дней, у нее был грипп, как она говорила (грипп был тогда новое слово, употреблявшееся только редкими).\n",
    "Предлагаю вернуть прежние границы природного парка №71 на Инженерной улице 2. По адресу Алтуфьевское шоссе д.51 (основной вид разрешенного использования: производственная деятельность, склады) размещен МПЗ. Жители требуют незамедлительной остановки МПЗ и его вывода из района\n",
    "Контакты О нас телефон 7 881 574-10-02 Адрес Республика Карелия,г.Петрозаводск,ул.Маршала Мерецкова, д.8 Б,офис 4 \n",
    "Благодарственное письмо Хочу поблагодарить учителей моего, теперь уже бывшего, одиннадцатиклассника: Бушуева Вячеслава Владимировича и Бушуеву Веру Константиновну. Они вовлекали сына в интересные внеурочные занятия, связанные с театром и походами.\n",
    "'''.splitlines()\n",
    "\n",
    "for text in texts:\n",
    "    all_spans = find_entities(text)\n",
    "    show_markup(text, all_spans)"
   ]
  },
  {
   "cell_type": "code",
   "execution_count": null,
   "metadata": {},
   "outputs": [],
   "source": []
  }
 ],
 "metadata": {
  "kernelspec": {
   "display_name": "Python 3",
   "language": "python",
   "name": "python3"
  },
  "language_info": {
   "codemirror_mode": {
    "name": "ipython",
    "version": 3
   },
   "file_extension": ".py",
   "mimetype": "text/x-python",
   "name": "python",
   "nbconvert_exporter": "python",
   "pygments_lexer": "ipython3",
   "version": "3.6.6"
  }
 },
 "nbformat": 4,
 "nbformat_minor": 2
}
